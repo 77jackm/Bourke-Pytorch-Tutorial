{
  "cells": [
    {
      "cell_type": "markdown",
      "metadata": {
        "id": "view-in-github",
        "colab_type": "text"
      },
      "source": [
        "<a href=\"https://colab.research.google.com/github/77jackm/Bourke-Pytorch-Tutorial/blob/main/Copy_of_00_MyPyTorch_Class.ipynb\" target=\"_parent\"><img src=\"https://colab.research.google.com/assets/colab-badge.svg\" alt=\"Open In Colab\"/></a>"
      ]
    },
    {
      "cell_type": "code",
      "source": [],
      "metadata": {
        "id": "3M2rJVCn54Wy"
      },
      "execution_count": null,
      "outputs": []
    },
    {
      "cell_type": "code",
      "execution_count": null,
      "metadata": {
        "id": "N8ul0j2EpD7o",
        "outputId": "63b901ce-93f8-41ec-f469-1820cc17ee0e",
        "colab": {
          "base_uri": "https://localhost:8080/"
        }
      },
      "outputs": [
        {
          "output_type": "stream",
          "name": "stdout",
          "text": [
            "2.3.0+cu121\n",
            "This is my Pytorch Tutorial\n"
          ]
        }
      ],
      "source": [
        "import torch\n",
        "import pandas as pd\n",
        "import numpy as np\n",
        "import matplotlib.pyplot as plt\n",
        "print (torch.__version__)\n",
        "from IPython.core.interactiveshell import InteractiveShell\n",
        "InteractiveShell.ast_node_interactivity = \"all\"\n",
        "\n",
        "print (\"This is my Pytorch Tutorial\")"
      ]
    },
    {
      "cell_type": "markdown",
      "source": [
        "###Introduction to Tensors\n",
        "Creating Tensors"
      ],
      "metadata": {
        "id": "eehfmm0tNij5"
      }
    },
    {
      "cell_type": "code",
      "source": [
        "# Scalar\n",
        "scalar = torch.tensor(7)\n",
        "scalar\n"
      ],
      "metadata": {
        "id": "HPsH3jHhNf7M",
        "outputId": "cd6b98cd-a976-4b83-d760-314c5a3a068b",
        "colab": {
          "base_uri": "https://localhost:8080/"
        }
      },
      "execution_count": null,
      "outputs": [
        {
          "output_type": "execute_result",
          "data": {
            "text/plain": [
              "tensor(7)"
            ]
          },
          "metadata": {},
          "execution_count": 2
        }
      ]
    },
    {
      "cell_type": "code",
      "source": [
        "scalar.ndim"
      ],
      "metadata": {
        "id": "NoLQVrS1BWCk",
        "outputId": "5339cc66-8934-417c-cb93-21c18f623ac3",
        "colab": {
          "base_uri": "https://localhost:8080/"
        }
      },
      "execution_count": null,
      "outputs": [
        {
          "output_type": "execute_result",
          "data": {
            "text/plain": [
              "0"
            ]
          },
          "metadata": {},
          "execution_count": 3
        }
      ]
    },
    {
      "cell_type": "code",
      "source": [
        "# Get Python Tensor value back as an Int\n",
        "scalar.item()"
      ],
      "metadata": {
        "id": "3RkbdfGHB6WQ",
        "outputId": "613d5c52-bb07-4df3-c31d-c97d474e5d1a",
        "colab": {
          "base_uri": "https://localhost:8080/"
        }
      },
      "execution_count": null,
      "outputs": [
        {
          "output_type": "execute_result",
          "data": {
            "text/plain": [
              "7"
            ]
          },
          "metadata": {},
          "execution_count": 4
        }
      ]
    },
    {
      "cell_type": "code",
      "source": [
        "# Vector\n",
        "vector = torch.tensor([7,7])\n",
        "vector"
      ],
      "metadata": {
        "id": "WtD816QhCPJi",
        "outputId": "e98bbc5c-40dd-413f-ad22-92e2c986dbc4",
        "colab": {
          "base_uri": "https://localhost:8080/"
        }
      },
      "execution_count": null,
      "outputs": [
        {
          "output_type": "execute_result",
          "data": {
            "text/plain": [
              "tensor([7, 7])"
            ]
          },
          "metadata": {},
          "execution_count": 7
        }
      ]
    },
    {
      "cell_type": "code",
      "source": [
        "# The number of dimensions of a tensor can be determined by inspection.\n",
        "# Just look at the number of square bracket [] it has\n",
        "vector.ndim"
      ],
      "metadata": {
        "id": "0G0MYONTCm9c",
        "outputId": "4743cc10-e5cc-46c7-d07c-3ca54b2eaa5e",
        "colab": {
          "base_uri": "https://localhost:8080/"
        }
      },
      "execution_count": null,
      "outputs": [
        {
          "output_type": "execute_result",
          "data": {
            "text/plain": [
              "1"
            ]
          },
          "metadata": {},
          "execution_count": 8
        }
      ]
    },
    {
      "cell_type": "code",
      "source": [
        "# The item() method returns a single int value. Since a vector\n",
        "# has 2 values you need to select which item in the vector\n",
        "vector[1].item()"
      ],
      "metadata": {
        "id": "50NRSgazCtyI",
        "outputId": "06a28f45-8ea4-4238-a6a0-6b9f0460b5e6",
        "colab": {
          "base_uri": "https://localhost:8080/"
        }
      },
      "execution_count": null,
      "outputs": [
        {
          "output_type": "execute_result",
          "data": {
            "text/plain": [
              "7"
            ]
          },
          "metadata": {},
          "execution_count": 10
        }
      ]
    },
    {
      "cell_type": "code",
      "source": [
        "vector.tolist()\n",
        "vector.shape"
      ],
      "metadata": {
        "id": "_Ylay4oyDXZ9",
        "outputId": "ac462b8a-7149-4e4f-9f65-1e166a87e4ea",
        "colab": {
          "base_uri": "https://localhost:8080/"
        }
      },
      "execution_count": null,
      "outputs": [
        {
          "output_type": "execute_result",
          "data": {
            "text/plain": [
              "[7, 7]"
            ]
          },
          "metadata": {},
          "execution_count": 11
        }
      ]
    },
    {
      "cell_type": "code",
      "source": [
        "# Find the shape of the vector.\n",
        "# Shape indicates the number of dimensions and the number of elements in each dimension\n",
        "vector.shape"
      ],
      "metadata": {
        "id": "z1pm2AIlRImw",
        "outputId": "6b8222fb-b934-4110-af0f-82516465296e",
        "colab": {
          "base_uri": "https://localhost:8080/"
        }
      },
      "execution_count": null,
      "outputs": [
        {
          "output_type": "execute_result",
          "data": {
            "text/plain": [
              "torch.Size([2])"
            ]
          },
          "metadata": {},
          "execution_count": 21
        }
      ]
    },
    {
      "cell_type": "code",
      "source": [
        "# MATRIX\n",
        "MATRIX  = torch.tensor([[7,8],\n",
        "                        [8,9],\n",
        "                        [10,11]])\n",
        "MATRIX"
      ],
      "metadata": {
        "colab": {
          "base_uri": "https://localhost:8080/"
        },
        "id": "AHrvrJZPRhjZ",
        "outputId": "97d4f0ce-e3d2-4e38-f092-60c3387dcbbc"
      },
      "execution_count": null,
      "outputs": [
        {
          "output_type": "execute_result",
          "data": {
            "text/plain": [
              "tensor([[ 7,  8],\n",
              "        [ 8,  9],\n",
              "        [10, 11]])"
            ]
          },
          "metadata": {},
          "execution_count": 24
        }
      ]
    },
    {
      "cell_type": "code",
      "source": [
        "MATRIX.ndim"
      ],
      "metadata": {
        "id": "SGLrpV_5TQL3",
        "outputId": "23ca9435-1a60-4e7a-d65f-3cc3f748beee",
        "colab": {
          "base_uri": "https://localhost:8080/"
        }
      },
      "execution_count": null,
      "outputs": [
        {
          "output_type": "execute_result",
          "data": {
            "text/plain": [
              "2"
            ]
          },
          "metadata": {},
          "execution_count": 26
        }
      ]
    },
    {
      "cell_type": "code",
      "source": [
        "\n",
        "MATRIX.shape"
      ],
      "metadata": {
        "id": "gJMI0IRXSLM0",
        "outputId": "4f5f3555-4878-45c3-f300-5c73f5217d64",
        "colab": {
          "base_uri": "https://localhost:8080/"
        }
      },
      "execution_count": null,
      "outputs": [
        {
          "output_type": "execute_result",
          "data": {
            "text/plain": [
              "torch.Size([3, 2])"
            ]
          },
          "metadata": {},
          "execution_count": 28
        }
      ]
    },
    {
      "cell_type": "code",
      "source": [],
      "metadata": {
        "id": "_xxyAgyMT7Xd"
      },
      "execution_count": null,
      "outputs": []
    },
    {
      "cell_type": "code",
      "source": [
        "# MATRIX\n",
        "MATRIX  = torch.tensor([[[7,8],\n",
        "                        [8,9]],\n",
        "                        [[10,11],\n",
        "                         [12,13]]])\n",
        "MATRIX"
      ],
      "metadata": {
        "outputId": "3f31e2d4-804b-4f5e-f960-96e3907600f4",
        "colab": {
          "base_uri": "https://localhost:8080/"
        },
        "id": "fZOKAJKXT7uX"
      },
      "execution_count": null,
      "outputs": [
        {
          "output_type": "execute_result",
          "data": {
            "text/plain": [
              "tensor([[[ 7,  8],\n",
              "         [ 8,  9]],\n",
              "\n",
              "        [[10, 11],\n",
              "         [12, 13]]])"
            ]
          },
          "metadata": {},
          "execution_count": 30
        }
      ]
    },
    {
      "cell_type": "code",
      "source": [
        "MATRIX.ndim\n"
      ],
      "metadata": {
        "id": "7zBBdt3rUTGZ",
        "outputId": "fdfd96f5-7ba8-439c-9588-33f639cbfa3c",
        "colab": {
          "base_uri": "https://localhost:8080/"
        }
      },
      "execution_count": null,
      "outputs": [
        {
          "output_type": "execute_result",
          "data": {
            "text/plain": [
              "3"
            ]
          },
          "metadata": {},
          "execution_count": 31
        }
      ]
    },
    {
      "cell_type": "code",
      "source": [
        "MATRIX.shape"
      ],
      "metadata": {
        "id": "x3b54HXqUZo7",
        "outputId": "e9d7b730-9e30-48a0-f13d-3e48ee362507",
        "colab": {
          "base_uri": "https://localhost:8080/"
        }
      },
      "execution_count": null,
      "outputs": [
        {
          "output_type": "execute_result",
          "data": {
            "text/plain": [
              "torch.Size([2, 2, 2])"
            ]
          },
          "metadata": {},
          "execution_count": 32
        }
      ]
    },
    {
      "cell_type": "code",
      "source": [
        "#TENSOR\n",
        "TENSOR = torch.tensor([[[1,2,3],\n",
        "                        [4,5,6],\n",
        "                       ]])\n",
        "TENSOR\n"
      ],
      "metadata": {
        "id": "pSraBbHLck0t",
        "outputId": "beab9b14-6e6f-4f11-dcda-5fcde3fe2af4",
        "colab": {
          "base_uri": "https://localhost:8080/"
        }
      },
      "execution_count": null,
      "outputs": [
        {
          "output_type": "execute_result",
          "data": {
            "text/plain": [
              "tensor([[[1, 2, 3],\n",
              "         [4, 5, 6]]])"
            ]
          },
          "metadata": {},
          "execution_count": 37
        }
      ]
    },
    {
      "cell_type": "code",
      "source": [
        "TENSOR.ndim"
      ],
      "metadata": {
        "id": "TlSLET2ddYH5",
        "outputId": "d06bff27-0bdb-4d23-bb07-6c18c753506e",
        "colab": {
          "base_uri": "https://localhost:8080/"
        }
      },
      "execution_count": null,
      "outputs": [
        {
          "output_type": "execute_result",
          "data": {
            "text/plain": [
              "3"
            ]
          },
          "metadata": {},
          "execution_count": 39
        }
      ]
    },
    {
      "cell_type": "code",
      "source": [
        "TENSOR.shape"
      ],
      "metadata": {
        "id": "1LpsTv70djXJ",
        "outputId": "36c7ebe3-a140-4dee-f161-78371c92fd60",
        "colab": {
          "base_uri": "https://localhost:8080/"
        }
      },
      "execution_count": null,
      "outputs": [
        {
          "output_type": "execute_result",
          "data": {
            "text/plain": [
              "torch.Size([1, 2, 3])"
            ]
          },
          "metadata": {},
          "execution_count": 40
        }
      ]
    },
    {
      "cell_type": "code",
      "source": [
        "TENSOR[0]"
      ],
      "metadata": {
        "id": "D9vwxcAbg4Wc",
        "outputId": "ac1fad23-394e-489d-fce7-c5f71ded0f52",
        "colab": {
          "base_uri": "https://localhost:8080/"
        }
      },
      "execution_count": null,
      "outputs": [
        {
          "output_type": "execute_result",
          "data": {
            "text/plain": [
              "tensor([[1, 2, 3],\n",
              "        [4, 5, 6]])"
            ]
          },
          "metadata": {},
          "execution_count": 41
        }
      ]
    },
    {
      "cell_type": "code",
      "source": [
        "TENSOR[0,0,1]"
      ],
      "metadata": {
        "id": "kLbMJlfohCXT",
        "outputId": "cd4d474a-e0f1-4b36-f03f-1a58cbdd85a9",
        "colab": {
          "base_uri": "https://localhost:8080/"
        }
      },
      "execution_count": null,
      "outputs": [
        {
          "output_type": "execute_result",
          "data": {
            "text/plain": [
              "tensor(2)"
            ]
          },
          "metadata": {},
          "execution_count": 45
        }
      ]
    },
    {
      "cell_type": "code",
      "source": [
        "#PRACTICE\n",
        "\n",
        "#Create a tensor or order (2,3,5)\n",
        "\n",
        "TENSOR1 = torch.tensor([[[0,1,2,3,4],\n",
        "                         [5,6,7,8,9],\n",
        "                         [10,11,12,13,14]],\n",
        "                        [[15,16,17,18,19],\n",
        "                         [20,21,22,23,24],\n",
        "                         [25,26,27,28,29]]])\n",
        "TENSOR1"
      ],
      "metadata": {
        "colab": {
          "base_uri": "https://localhost:8080/"
        },
        "id": "S7HWJBqmoEU9",
        "outputId": "8bd2e4e0-06a7-4e43-f6ca-c8ec47dc69e9"
      },
      "execution_count": null,
      "outputs": [
        {
          "output_type": "execute_result",
          "data": {
            "text/plain": [
              "tensor([[[ 0,  1,  2,  3,  4],\n",
              "         [ 5,  6,  7,  8,  9],\n",
              "         [10, 11, 12, 13, 14]],\n",
              "\n",
              "        [[15, 16, 17, 18, 19],\n",
              "         [20, 21, 22, 23, 24],\n",
              "         [25, 26, 27, 28, 29]]])"
            ]
          },
          "metadata": {},
          "execution_count": 3
        }
      ]
    },
    {
      "cell_type": "code",
      "source": [
        "TENSOR1.ndim"
      ],
      "metadata": {
        "colab": {
          "base_uri": "https://localhost:8080/"
        },
        "id": "BxLGbe-CpL_w",
        "outputId": "30d124e7-a70d-4cd9-f6ad-5f2e8832f610"
      },
      "execution_count": null,
      "outputs": [
        {
          "output_type": "execute_result",
          "data": {
            "text/plain": [
              "3"
            ]
          },
          "metadata": {},
          "execution_count": 4
        }
      ]
    },
    {
      "cell_type": "code",
      "source": [
        "TENSOR1.shape"
      ],
      "metadata": {
        "colab": {
          "base_uri": "https://localhost:8080/"
        },
        "id": "B60gErMcpSsY",
        "outputId": "b2767c5a-3503-4263-a3f3-12cbb764ece5"
      },
      "execution_count": null,
      "outputs": [
        {
          "output_type": "execute_result",
          "data": {
            "text/plain": [
              "torch.Size([2, 3, 5])"
            ]
          },
          "metadata": {},
          "execution_count": 5
        }
      ]
    },
    {
      "cell_type": "code",
      "source": [
        "TENSOR1[1,0,2].item()\n"
      ],
      "metadata": {
        "colab": {
          "base_uri": "https://localhost:8080/"
        },
        "id": "UcinpPGNpbeH",
        "outputId": "5f151d9f-a304-40b9-bdfc-c35065d63741"
      },
      "execution_count": null,
      "outputs": [
        {
          "output_type": "execute_result",
          "data": {
            "text/plain": [
              "17"
            ]
          },
          "metadata": {},
          "execution_count": 9
        }
      ]
    },
    {
      "cell_type": "code",
      "source": [
        "TENSOR1[1,0,]"
      ],
      "metadata": {
        "colab": {
          "base_uri": "https://localhost:8080/"
        },
        "id": "VyTugYN32dA1",
        "outputId": "60ee216f-53f6-465d-b863-b414c9e86f18"
      },
      "execution_count": null,
      "outputs": [
        {
          "output_type": "execute_result",
          "data": {
            "text/plain": [
              "tensor([15, 16, 17, 18, 19])"
            ]
          },
          "metadata": {},
          "execution_count": 12
        }
      ]
    },
    {
      "cell_type": "code",
      "source": [
        "# How to print each element of a tensor. Start with highest dimension and go down the hierarchy\n",
        "for plane in TENSOR1:\n",
        "  for row in plane:\n",
        "    for column_element in row:\n",
        "      print (column_element)"
      ],
      "metadata": {
        "colab": {
          "base_uri": "https://localhost:8080/"
        },
        "id": "yriuVpXV2884",
        "outputId": "c91c8504-0e82-4e62-a7e8-7186d3f336b2"
      },
      "execution_count": null,
      "outputs": [
        {
          "output_type": "stream",
          "name": "stdout",
          "text": [
            "tensor(0)\n",
            "tensor(1)\n",
            "tensor(2)\n",
            "tensor(3)\n",
            "tensor(4)\n",
            "tensor(5)\n",
            "tensor(6)\n",
            "tensor(7)\n",
            "tensor(8)\n",
            "tensor(9)\n",
            "tensor(10)\n",
            "tensor(11)\n",
            "tensor(12)\n",
            "tensor(13)\n",
            "tensor(14)\n",
            "tensor(15)\n",
            "tensor(16)\n",
            "tensor(17)\n",
            "tensor(18)\n",
            "tensor(19)\n",
            "tensor(20)\n",
            "tensor(21)\n",
            "tensor(22)\n",
            "tensor(23)\n",
            "tensor(24)\n",
            "tensor(25)\n",
            "tensor(26)\n",
            "tensor(27)\n",
            "tensor(28)\n",
            "tensor(29)\n"
          ]
        }
      ]
    },
    {
      "cell_type": "code",
      "source": [
        "#Float32 Tensor\n",
        "float_32_tensor = torch.tensor([3.0, 6.0, 9.0],\n",
        "                               dtype=None, #Tensor datatype\n",
        "                               device=None, #Device then tensor is on cpu or gpu\n",
        "                               requires_grad=False) #Whether or not to track gradients\n",
        "float_32_tensor"
      ],
      "metadata": {
        "colab": {
          "base_uri": "https://localhost:8080/"
        },
        "id": "q9bBhWfGEOMX",
        "outputId": "c51a2e47-4927-4002-efdc-38cac013a17c"
      },
      "execution_count": null,
      "outputs": [
        {
          "output_type": "execute_result",
          "data": {
            "text/plain": [
              "tensor([3., 6., 9.])"
            ]
          },
          "metadata": {},
          "execution_count": 26
        }
      ]
    },
    {
      "cell_type": "code",
      "source": [
        "float_32_tensor.dtype\n"
      ],
      "metadata": {
        "colab": {
          "base_uri": "https://localhost:8080/"
        },
        "id": "wZrqwhf5Ezi9",
        "outputId": "663f3fbe-b90b-4c68-b1ce-f538bb54c6f3"
      },
      "execution_count": null,
      "outputs": [
        {
          "output_type": "execute_result",
          "data": {
            "text/plain": [
              "torch.float32"
            ]
          },
          "metadata": {},
          "execution_count": 27
        }
      ]
    },
    {
      "cell_type": "markdown",
      "source": [
        "The 3 common error with PyTorch and ML\n",
        "1. Using the wrong datatype or mixed datatypes\n",
        "2. Tensors not the right shape (ie. Matrix Multiplication requires compatible shapes)\n",
        "3. Allocating the tensor to the wrong device. Tensors in an operation have to be on same device"
      ],
      "metadata": {
        "id": "2vd8HLB4ImrA"
      }
    },
    {
      "cell_type": "code",
      "source": [
        "#To change data type\n",
        "float_16_tensor = float_32_tensor.type(torch.float16)\n",
        "float_16_tensor"
      ],
      "metadata": {
        "colab": {
          "base_uri": "https://localhost:8080/"
        },
        "id": "sqfCNIKcJBKQ",
        "outputId": "6bed5631-1077-4f7e-d02a-391456ff05bb"
      },
      "execution_count": null,
      "outputs": [
        {
          "output_type": "execute_result",
          "data": {
            "text/plain": [
              "tensor([3., 6., 9.], dtype=torch.float16)"
            ]
          },
          "metadata": {},
          "execution_count": 28
        }
      ]
    },
    {
      "cell_type": "code",
      "source": [
        "output_tensor = float_32_tensor * float_16_tensor\n",
        "output_tensor.dtype"
      ],
      "metadata": {
        "colab": {
          "base_uri": "https://localhost:8080/"
        },
        "id": "rWCENEAMPOrF",
        "outputId": "742171b1-c849-48b4-f93a-dc1287e3f4dd"
      },
      "execution_count": null,
      "outputs": [
        {
          "output_type": "execute_result",
          "data": {
            "text/plain": [
              "torch.float32"
            ]
          },
          "metadata": {},
          "execution_count": 30
        }
      ]
    },
    {
      "cell_type": "code",
      "source": [
        "#Information we want to regularly get from our tensors\n",
        "TENSOR1.dtype\n",
        "TENSOR1.shape\n",
        "TENSOR1.device\n"
      ],
      "metadata": {
        "colab": {
          "base_uri": "https://localhost:8080/"
        },
        "id": "1MnYosXVQTPE",
        "outputId": "d4bd422c-73a2-4578-a1f2-7e85b513b7fe"
      },
      "execution_count": null,
      "outputs": [
        {
          "output_type": "execute_result",
          "data": {
            "text/plain": [
              "torch.int64"
            ]
          },
          "metadata": {},
          "execution_count": 35
        },
        {
          "output_type": "execute_result",
          "data": {
            "text/plain": [
              "torch.Size([2, 3, 5])"
            ]
          },
          "metadata": {},
          "execution_count": 35
        },
        {
          "output_type": "execute_result",
          "data": {
            "text/plain": [
              "device(type='cpu')"
            ]
          },
          "metadata": {},
          "execution_count": 35
        }
      ]
    },
    {
      "cell_type": "code",
      "source": [
        "#Create a tensor with random elements\n",
        "some_tensor = torch.rand(3,4)\n",
        "some_tensor\n"
      ],
      "metadata": {
        "colab": {
          "base_uri": "https://localhost:8080/"
        },
        "id": "O_uSpAFwRERi",
        "outputId": "bb506106-71df-4f5b-e42a-007b22ac5931"
      },
      "execution_count": null,
      "outputs": [
        {
          "output_type": "execute_result",
          "data": {
            "text/plain": [
              "tensor([[0.9839, 0.6343, 0.5182, 0.9815],\n",
              "        [0.8008, 0.8768, 0.1616, 0.1061],\n",
              "        [0.4010, 0.1090, 0.6921, 0.3937]])"
            ]
          },
          "metadata": {},
          "execution_count": 3
        }
      ]
    },
    {
      "cell_type": "code",
      "source": [
        "# Find the details of the tensor created\n",
        "some_tensor\n",
        "print (f\"some_tensor has datatype: {some_tensor.dtype}\")\n",
        "print (f\"some_tensor has shape: {some_tensor.shape}\")\n",
        "print (f\"some_tensor is on device: {some_tensor.device}\")\n",
        "\n"
      ],
      "metadata": {
        "colab": {
          "base_uri": "https://localhost:8080/"
        },
        "id": "VwtRF898RbbB",
        "outputId": "88278617-5941-4aff-dc02-4e5185f36ed8"
      },
      "execution_count": null,
      "outputs": [
        {
          "output_type": "execute_result",
          "data": {
            "text/plain": [
              "tensor([[0.9839, 0.6343, 0.5182, 0.9815],\n",
              "        [0.8008, 0.8768, 0.1616, 0.1061],\n",
              "        [0.4010, 0.1090, 0.6921, 0.3937]])"
            ]
          },
          "metadata": {},
          "execution_count": 5
        },
        {
          "output_type": "stream",
          "name": "stdout",
          "text": [
            "some_tensor has datatype: torch.float32\n",
            "some_tensor has shape: torch.Size([3, 4])\n",
            "some_tensor is on device: cpu\n"
          ]
        }
      ]
    },
    {
      "cell_type": "markdown",
      "source": [
        "### Manipulating Tensors (Tensor Operations)**\n",
        "\n",
        "Tensor Operations Include:\n",
        "* Addition\n",
        "* Substraction\n",
        "* Multiplication (Element Wise)\n",
        "* Division\n",
        "* Matrix multiplication"
      ],
      "metadata": {
        "id": "oVVCKVl5ID0_"
      }
    },
    {
      "cell_type": "code",
      "source": [
        "#Create a Tensor and add a scalar to each element\n",
        "tensor = torch.tensor([1,2,3])\n",
        "tensor + 10"
      ],
      "metadata": {
        "colab": {
          "base_uri": "https://localhost:8080/"
        },
        "id": "ye7AsEa_KFNK",
        "outputId": "3524fddd-c488-4a4a-f3f4-109177783900"
      },
      "execution_count": null,
      "outputs": [
        {
          "output_type": "execute_result",
          "data": {
            "text/plain": [
              "tensor([11, 12, 13])"
            ]
          },
          "metadata": {},
          "execution_count": 6
        }
      ]
    },
    {
      "cell_type": "code",
      "source": [
        "# Multiply a tensor by 10\n",
        "tensor * 10"
      ],
      "metadata": {
        "colab": {
          "base_uri": "https://localhost:8080/"
        },
        "id": "D_SCcJgsKkwo",
        "outputId": "4fbb0243-42c1-4421-baa5-e1f09b1ff905"
      },
      "execution_count": null,
      "outputs": [
        {
          "output_type": "execute_result",
          "data": {
            "text/plain": [
              "tensor([10, 20, 30])"
            ]
          },
          "metadata": {},
          "execution_count": 7
        }
      ]
    },
    {
      "cell_type": "code",
      "source": [
        "# Subtract 10 from a tensor\n",
        "tensor - 10\n"
      ],
      "metadata": {
        "colab": {
          "base_uri": "https://localhost:8080/"
        },
        "id": "e06xFymlK8k2",
        "outputId": "662af84f-3cf1-438a-f723-74b6048409cd"
      },
      "execution_count": null,
      "outputs": [
        {
          "output_type": "execute_result",
          "data": {
            "text/plain": [
              "tensor([-9, -8, -7])"
            ]
          },
          "metadata": {},
          "execution_count": 8
        }
      ]
    },
    {
      "cell_type": "code",
      "source": [
        "#There are also built-in Torch functions for these operations\n",
        "\n",
        "torch.mul(tensor, 10)\n"
      ],
      "metadata": {
        "colab": {
          "base_uri": "https://localhost:8080/"
        },
        "id": "dCrTMwaVLVY5",
        "outputId": "c83f15ee-987a-4b9d-cdf2-4be4a470b1db"
      },
      "execution_count": null,
      "outputs": [
        {
          "output_type": "execute_result",
          "data": {
            "text/plain": [
              "tensor([10, 20, 30])"
            ]
          },
          "metadata": {},
          "execution_count": 9
        }
      ]
    },
    {
      "cell_type": "markdown",
      "source": [
        "### MATRIX MULTIPLICATION\n",
        "\n",
        "There are two mail rules of performing matrix multiplication in NN and DL\n",
        "\n",
        "1. Scalar Multiplication: Element-wise multiplication\n",
        "2. Matrix Multiplication: DOT PRODUCT (The most common operation in ANN)\n",
        "\n",
        "Two requirements have meet for Matrix Multiplication:\n",
        "1. A x B = C\n",
        "Dimensions of matrices are such that A = m x n.    B = n x p.     C = n x p\n",
        "the inner dimension \"n\" must match\n",
        "2. The resulting matrix has the shape (dimensions) of outer dimension m x p\n",
        "\n",
        "We can use tensor.shape to ensure that rule #1 is satisfied"
      ],
      "metadata": {
        "id": "a_mTR-suvOFu"
      }
    },
    {
      "cell_type": "code",
      "source": [
        "# Element-Wise Multiplication\n",
        "print (tensor, \"*\", tensor)\n",
        "print (f\"Equals: {tensor * tensor}\")\n"
      ],
      "metadata": {
        "colab": {
          "base_uri": "https://localhost:8080/"
        },
        "id": "LZBCFG0uw75O",
        "outputId": "cd1bed29-a544-44c5-c1c9-4d0aed413fbb"
      },
      "execution_count": null,
      "outputs": [
        {
          "output_type": "stream",
          "name": "stdout",
          "text": [
            "tensor([1, 2, 3]) * tensor([1, 2, 3])\n",
            "Equals: tensor([1, 4, 9])\n"
          ]
        }
      ]
    },
    {
      "cell_type": "code",
      "source": [
        "# Matrix Multiplication\n",
        "torch.matmul(tensor, tensor)"
      ],
      "metadata": {
        "colab": {
          "base_uri": "https://localhost:8080/"
        },
        "id": "klBSIkq_xtjp",
        "outputId": "579613ed-d5ae-4b90-9324-788bb62e7ded"
      },
      "execution_count": null,
      "outputs": [
        {
          "output_type": "execute_result",
          "data": {
            "text/plain": [
              "tensor(14)"
            ]
          },
          "metadata": {},
          "execution_count": 12
        }
      ]
    },
    {
      "cell_type": "markdown",
      "source": [
        "Let's have a gazer is Australian for lets have a look"
      ],
      "metadata": {
        "id": "g0B_eVpwzImb"
      }
    },
    {
      "cell_type": "code",
      "source": [
        "#Let's do the matrix multiplication by hand and time it\n",
        "%%time\n",
        "value = 0\n",
        "for i in range(len(tensor)):\n",
        "  value += tensor[i] * tensor[i]\n",
        "print (value)"
      ],
      "metadata": {
        "colab": {
          "base_uri": "https://localhost:8080/"
        },
        "id": "Amo8H69WzH7z",
        "outputId": "7298b1df-6d2e-4c5f-a231-5e3efad07671"
      },
      "execution_count": null,
      "outputs": [
        {
          "output_type": "stream",
          "name": "stdout",
          "text": [
            "tensor(14)\n",
            "CPU times: user 3.34 ms, sys: 1.97 ms, total: 5.31 ms\n",
            "Wall time: 6.09 ms\n"
          ]
        }
      ]
    },
    {
      "cell_type": "code",
      "source": [
        "%%time\n",
        "output = torch.matmul(tensor, tensor)\n",
        "print (output)\n",
        "# You can also use @ sign instead of matmul\n",
        "tensor @ tensor"
      ],
      "metadata": {
        "colab": {
          "base_uri": "https://localhost:8080/"
        },
        "id": "o1zY2gX70bGY",
        "outputId": "ea06f3e7-43a6-4658-d2c2-99d230d8e07e"
      },
      "execution_count": null,
      "outputs": [
        {
          "output_type": "stream",
          "name": "stdout",
          "text": [
            "tensor(14)\n",
            "CPU times: user 2.11 ms, sys: 971 µs, total: 3.08 ms\n",
            "Wall time: 2.79 ms\n"
          ]
        },
        {
          "output_type": "execute_result",
          "data": {
            "text/plain": [
              "tensor(14)"
            ]
          },
          "metadata": {},
          "execution_count": 21
        }
      ]
    },
    {
      "cell_type": "markdown",
      "source": [
        "###Shapes for MAtrix Multiplication"
      ],
      "metadata": {
        "id": "xZrUwrGnTIW2"
      }
    },
    {
      "cell_type": "code",
      "source": [
        "tensor_A = torch.tensor([[1,2],\n",
        "                        [3,4],\n",
        "                        [5,6]])\n",
        "tensor_B = torch.tensor([[7,10],\n",
        "                        [8,11],\n",
        "                        [9,12]])\n",
        "#torch.mm( tensor_A, tensor_B) #torch.mm is the same as torch.matmul\n",
        "n1 = tensor_A.shape\n",
        "n2 = tensor_B.shape\n",
        "if n1[0] != n2[1]:\n",
        "  print(\"Error: The inner dimensions must match\")\n",
        "#\n",
        "\n"
      ],
      "metadata": {
        "colab": {
          "base_uri": "https://localhost:8080/"
        },
        "id": "KZURYfbSTRW5",
        "outputId": "458f989e-5f4c-449f-9d59-ae42df1d3cc1"
      },
      "execution_count": null,
      "outputs": [
        {
          "output_type": "stream",
          "name": "stdout",
          "text": [
            "Error: The inner dimensions must match\n"
          ]
        }
      ]
    },
    {
      "cell_type": "code",
      "source": [
        "# To fix the error in this case we can manipulate the shape of one tensor using transpose\n",
        "# A transpose switches the axes or dimensions of a given tensor\n",
        "\n",
        "tensor_B\n",
        "tensor_B.T # transpose\n",
        "torch.mm(tensor_A, tensor_B.T)"
      ],
      "metadata": {
        "colab": {
          "base_uri": "https://localhost:8080/"
        },
        "id": "fGxOqEx-Wotu",
        "outputId": "b06731f8-610b-4436-85d6-22c06a4618dd"
      },
      "execution_count": null,
      "outputs": [
        {
          "output_type": "execute_result",
          "data": {
            "text/plain": [
              "tensor([[ 7, 10],\n",
              "        [ 8, 11],\n",
              "        [ 9, 12]])"
            ]
          },
          "metadata": {},
          "execution_count": 20
        },
        {
          "output_type": "execute_result",
          "data": {
            "text/plain": [
              "tensor([[ 7,  8,  9],\n",
              "        [10, 11, 12]])"
            ]
          },
          "metadata": {},
          "execution_count": 20
        },
        {
          "output_type": "execute_result",
          "data": {
            "text/plain": [
              "tensor([[ 27,  30,  33],\n",
              "        [ 61,  68,  75],\n",
              "        [ 95, 106, 117]])"
            ]
          },
          "metadata": {},
          "execution_count": 20
        }
      ]
    },
    {
      "cell_type": "code",
      "source": [
        "#Now transpose first tensor to see if we get the same result: Absolutely not. You don't\n",
        "#evn have to compute it just look at the outer dimensions to see the size of the output\n",
        "#tensor which 2x2 instead of 3x3\n",
        "torch.mm(tensor_A.T, tensor_B)\n"
      ],
      "metadata": {
        "colab": {
          "base_uri": "https://localhost:8080/"
        },
        "id": "NnZ6Bic-hl7z",
        "outputId": "2bee1219-5d5e-4f55-f24d-e01cddbd10ed"
      },
      "execution_count": null,
      "outputs": [
        {
          "output_type": "execute_result",
          "data": {
            "text/plain": [
              "tensor([[ 76, 103],\n",
              "        [100, 136]])"
            ]
          },
          "metadata": {},
          "execution_count": 22
        }
      ]
    },
    {
      "cell_type": "markdown",
      "source": [
        "##Tensor Aggregation: Find the min, max, mean, sum, etc\n",
        "Called aggregation because reducing a multiple dimensional tensor into a scalaraero"
      ],
      "metadata": {
        "id": "jGjy5YIuiVq1"
      }
    },
    {
      "cell_type": "code",
      "source": [
        "#Create a tensor with a range of 100 and step of 10\n",
        "x = torch.arange(0,100,10)\n",
        "x"
      ],
      "metadata": {
        "colab": {
          "base_uri": "https://localhost:8080/"
        },
        "id": "39C1gb-n7wtb",
        "outputId": "23187798-cce5-4d72-c450-e7dd68789048"
      },
      "execution_count": null,
      "outputs": [
        {
          "output_type": "execute_result",
          "data": {
            "text/plain": [
              "tensor([ 0, 10, 20, 30, 40, 50, 60, 70, 80, 90])"
            ]
          },
          "metadata": {},
          "execution_count": 3
        }
      ]
    },
    {
      "cell_type": "code",
      "source": [
        "#Find the min\n",
        "torch.min(x), x.min()"
      ],
      "metadata": {
        "colab": {
          "base_uri": "https://localhost:8080/"
        },
        "id": "3fWxMitf8LpU",
        "outputId": "fe7d4e60-5c6a-432b-e807-0d5dde95db0c"
      },
      "execution_count": null,
      "outputs": [
        {
          "output_type": "execute_result",
          "data": {
            "text/plain": [
              "(tensor(0), tensor(0))"
            ]
          },
          "metadata": {},
          "execution_count": 24
        }
      ]
    },
    {
      "cell_type": "code",
      "source": [
        "#Find the max\n",
        "torch.max(x), x.max()"
      ],
      "metadata": {
        "colab": {
          "base_uri": "https://localhost:8080/"
        },
        "id": "aq06NOPW8bba",
        "outputId": "77415b0d-3d50-4513-e7d1-a9388fcea2fc"
      },
      "execution_count": null,
      "outputs": [
        {
          "output_type": "execute_result",
          "data": {
            "text/plain": [
              "(tensor(90), tensor(90))"
            ]
          },
          "metadata": {},
          "execution_count": 25
        }
      ]
    },
    {
      "cell_type": "code",
      "source": [
        "#Find the mean\n",
        "torch.mean(x), x.mean()"
      ],
      "metadata": {
        "colab": {
          "base_uri": "https://localhost:8080/",
          "height": 176
        },
        "id": "to8le_nn80ST",
        "outputId": "dc90d91b-3c3e-4911-b9e2-76a1f82132ac"
      },
      "execution_count": null,
      "outputs": [
        {
          "output_type": "error",
          "ename": "RuntimeError",
          "evalue": "mean(): could not infer output dtype. Input dtype must be either a floating point or complex dtype. Got: Long",
          "traceback": [
            "\u001b[0;31m---------------------------------------------------------------------------\u001b[0m",
            "\u001b[0;31mRuntimeError\u001b[0m                              Traceback (most recent call last)",
            "\u001b[0;32m<ipython-input-26-9b91e9f1b9e2>\u001b[0m in \u001b[0;36m<cell line: 2>\u001b[0;34m()\u001b[0m\n\u001b[1;32m      1\u001b[0m \u001b[0;31m#Find the mean\u001b[0m\u001b[0;34m\u001b[0m\u001b[0;34m\u001b[0m\u001b[0m\n\u001b[0;32m----> 2\u001b[0;31m \u001b[0mtorch\u001b[0m\u001b[0;34m.\u001b[0m\u001b[0mmean\u001b[0m\u001b[0;34m(\u001b[0m\u001b[0mx\u001b[0m\u001b[0;34m)\u001b[0m\u001b[0;34m,\u001b[0m \u001b[0mx\u001b[0m\u001b[0;34m.\u001b[0m\u001b[0mmean\u001b[0m\u001b[0;34m(\u001b[0m\u001b[0;34m)\u001b[0m\u001b[0;34m\u001b[0m\u001b[0;34m\u001b[0m\u001b[0m\n\u001b[0m",
            "\u001b[0;31mRuntimeError\u001b[0m: mean(): could not infer output dtype. Input dtype must be either a floating point or complex dtype. Got: Long"
          ]
        }
      ]
    },
    {
      "cell_type": "code",
      "source": [
        "#Let's see the datatype arange created\n",
        "x.dtype"
      ],
      "metadata": {
        "colab": {
          "base_uri": "https://localhost:8080/"
        },
        "id": "DJf7GhS-8_E_",
        "outputId": "813f7d41-4784-4822-d92c-ff28de1a29d5"
      },
      "execution_count": null,
      "outputs": [
        {
          "output_type": "execute_result",
          "data": {
            "text/plain": [
              "torch.int64"
            ]
          },
          "metadata": {},
          "execution_count": 27
        }
      ]
    },
    {
      "cell_type": "code",
      "source": [
        "#It's double precision float and mean wants single precision float32\n",
        "torch.mean(x.type(torch.float32)), x.type(torch.float32).mean()"
      ],
      "metadata": {
        "colab": {
          "base_uri": "https://localhost:8080/"
        },
        "id": "RCawq_ho9Ljr",
        "outputId": "d4b194ea-7e99-47a6-b93a-9178f3762f36"
      },
      "execution_count": null,
      "outputs": [
        {
          "output_type": "execute_result",
          "data": {
            "text/plain": [
              "(tensor(45.), tensor(45.))"
            ]
          },
          "metadata": {},
          "execution_count": 30
        }
      ]
    },
    {
      "cell_type": "code",
      "source": [
        "#Find the sum of a tensor\n",
        "torch.sum(x), x.sum()\n",
        "# Either style is fine\n"
      ],
      "metadata": {
        "colab": {
          "base_uri": "https://localhost:8080/"
        },
        "id": "D2gvMiXk-eyF",
        "outputId": "7a8da7d0-d490-4110-a9ec-93ea35de829e"
      },
      "execution_count": null,
      "outputs": [
        {
          "output_type": "execute_result",
          "data": {
            "text/plain": [
              "(tensor(450), tensor(450))"
            ]
          },
          "metadata": {},
          "execution_count": 31
        }
      ]
    },
    {
      "cell_type": "code",
      "source": [],
      "metadata": {
        "id": "zJvYwgVh-x0j"
      },
      "execution_count": null,
      "outputs": []
    },
    {
      "cell_type": "markdown",
      "source": [
        "### Find the Positional Location where these Aggregates occur\n"
      ],
      "metadata": {
        "id": "UNDc4o2yF-Cb"
      }
    },
    {
      "cell_type": "code",
      "source": [
        "#Find the location of the max using argmax,\n",
        "#Useful in SoftMax Activation Function calculation\n",
        "print (f\"Max value of X is at index:\",torch.argmax(x))\n",
        "print (f\"Max value of X is:\",x[torch.argmax(x)])"
      ],
      "metadata": {
        "colab": {
          "base_uri": "https://localhost:8080/"
        },
        "id": "rkde08dWGKqf",
        "outputId": "c5780091-216e-49fd-e9ce-dca7a4576eba"
      },
      "execution_count": null,
      "outputs": [
        {
          "output_type": "stream",
          "name": "stdout",
          "text": [
            "Max value of X is at index: tensor(9)\n",
            "Max value of X is: tensor(90)\n"
          ]
        }
      ]
    },
    {
      "cell_type": "code",
      "source": [
        "#Find the location of min using argmin\n",
        "print (f\"Min value of X is at index:\",torch.argmin(x))\n",
        "print (f\"Min value of X is:\",x[torch.argmin(x)])"
      ],
      "metadata": {
        "colab": {
          "base_uri": "https://localhost:8080/"
        },
        "id": "oHRTQGvSG-W6",
        "outputId": "b5e44128-3750-4bab-eda2-eea96aa244e8"
      },
      "execution_count": null,
      "outputs": [
        {
          "output_type": "stream",
          "name": "stdout",
          "text": [
            "Min value of X is at index: tensor(0)\n",
            "Min value of X is: tensor(0)\n"
          ]
        }
      ]
    },
    {
      "cell_type": "markdown",
      "source": [
        "### Reshaping, Stacking, Squeezing and Unsqueezing Tensors\n",
        "* Reshaping: Changes the dimensions (shape) of a tensor to new defined shape\n",
        "* View: Return a view of an input tensor of certain shape but use the same memory as original tensor\n",
        "* Stacking: Stack multiple tensors on top of each other in any dimension (vstack is a special function for vertical) or similar to vstack side-by-side (hstack)\n",
        "* Squeeze:  Removes a dimension of \"1\" from a target tensor\n",
        "* Unsqueeze: Adds a dimension of \"1\" to a target\n",
        "* Permute: Returns a view of the input with dimensions permuted (swapped) in a specified manner"
      ],
      "metadata": {
        "id": "cQ5lt_mPIP-D"
      }
    },
    {
      "cell_type": "code",
      "source": [
        "x = torch.arange(1,101,10)\n",
        "x"
      ],
      "metadata": {
        "colab": {
          "base_uri": "https://localhost:8080/"
        },
        "id": "3zILmZEVIYhO",
        "outputId": "084bdc4b-d0f8-46ed-d133-d3fe6077ffd2"
      },
      "execution_count": null,
      "outputs": [
        {
          "output_type": "execute_result",
          "data": {
            "text/plain": [
              "tensor([ 1, 11, 21, 31, 41, 51, 61, 71, 81, 91])"
            ]
          },
          "metadata": {},
          "execution_count": 36
        }
      ]
    },
    {
      "cell_type": "code",
      "source": [
        "x = torch.arange(start = 1.,end = 10.)\n",
        "x"
      ],
      "metadata": {
        "colab": {
          "base_uri": "https://localhost:8080/"
        },
        "id": "SQAYTzRBWuhw",
        "outputId": "5ec5350c-6e27-48e2-c975-53c4a83efe2c"
      },
      "execution_count": null,
      "outputs": [
        {
          "output_type": "execute_result",
          "data": {
            "text/plain": [
              "tensor([1., 2., 3., 4., 5., 6., 7., 8., 9.])"
            ]
          },
          "metadata": {},
          "execution_count": 6
        }
      ]
    },
    {
      "cell_type": "code",
      "source": [
        "# The initial tensor must have sufficient elements to create the reshaped tensor\n",
        "x = torch.reshape(x, (9,1))\n",
        "x"
      ],
      "metadata": {
        "colab": {
          "base_uri": "https://localhost:8080/"
        },
        "id": "ai8E9ut3YB-J",
        "outputId": "f823f261-b7af-4b6e-cb46-9461b67c30fd"
      },
      "execution_count": null,
      "outputs": [
        {
          "output_type": "execute_result",
          "data": {
            "text/plain": [
              "tensor([[1.],\n",
              "        [2.],\n",
              "        [3.],\n",
              "        [4.],\n",
              "        [5.],\n",
              "        [6.],\n",
              "        [7.],\n",
              "        [8.],\n",
              "        [9.]])"
            ]
          },
          "metadata": {},
          "execution_count": 46
        }
      ]
    },
    {
      "cell_type": "code",
      "source": [
        "x = torch.arange(1,11,1)\n",
        "x"
      ],
      "metadata": {
        "colab": {
          "base_uri": "https://localhost:8080/"
        },
        "id": "EhG9i7VZZR2l",
        "outputId": "1be7a83b-bc26-48b5-d55d-af9f8a05b20a"
      },
      "execution_count": null,
      "outputs": [
        {
          "output_type": "execute_result",
          "data": {
            "text/plain": [
              "tensor([ 1,  2,  3,  4,  5,  6,  7,  8,  9, 10])"
            ]
          },
          "metadata": {},
          "execution_count": 2
        }
      ]
    },
    {
      "cell_type": "code",
      "source": [
        "x = torch.reshape( x, (1,2,5))\n",
        "x, x.shape"
      ],
      "metadata": {
        "colab": {
          "base_uri": "https://localhost:8080/"
        },
        "id": "ow4KkaKSZa03",
        "outputId": "6bdc81ce-46dc-4b11-838a-275169047f6c"
      },
      "execution_count": null,
      "outputs": [
        {
          "output_type": "execute_result",
          "data": {
            "text/plain": [
              "(tensor([[[ 1,  2,  3,  4,  5],\n",
              "          [ 6,  7,  8,  9, 10]]]),\n",
              " torch.Size([1, 2, 5]))"
            ]
          },
          "metadata": {},
          "execution_count": 3
        }
      ]
    },
    {
      "cell_type": "code",
      "source": [
        "#Change the view. Changing z changes x because they share the same memory\n",
        "z = x.view(1,9)\n",
        "z,  z.shape\n"
      ],
      "metadata": {
        "colab": {
          "base_uri": "https://localhost:8080/"
        },
        "id": "uGfqAIZuZv-O",
        "outputId": "6a244222-d968-46e7-b97a-55ee3ff60f70"
      },
      "execution_count": null,
      "outputs": [
        {
          "output_type": "execute_result",
          "data": {
            "text/plain": [
              "(tensor([[1., 2., 3., 4., 5., 6., 7., 8., 9.]]), torch.Size([1, 9]))"
            ]
          },
          "metadata": {},
          "execution_count": 9
        }
      ]
    },
    {
      "cell_type": "markdown",
      "source": [
        "Z declared to be a view of X is a pointer to X tensor. So if Z is changed then X changes"
      ],
      "metadata": {
        "id": "q3V5dc3xQ6jn"
      }
    },
    {
      "cell_type": "code",
      "source": [
        "z[:,0]= 0.5\n",
        "z, x"
      ],
      "metadata": {
        "colab": {
          "base_uri": "https://localhost:8080/"
        },
        "id": "xvd7gj3mQ4oW",
        "outputId": "3de4cf03-45c5-4387-901c-81351666c781"
      },
      "execution_count": null,
      "outputs": [
        {
          "output_type": "execute_result",
          "data": {
            "text/plain": [
              "(tensor([[0.5000, 2.0000, 3.0000, 4.0000, 5.0000, 6.0000, 7.0000, 8.0000, 9.0000]]),\n",
              " tensor([0.5000, 2.0000, 3.0000, 4.0000, 5.0000, 6.0000, 7.0000, 8.0000, 9.0000]))"
            ]
          },
          "metadata": {},
          "execution_count": 11
        }
      ]
    },
    {
      "cell_type": "markdown",
      "source": [
        "### STACKING TENSORS\n"
      ],
      "metadata": {
        "id": "hELczv1YRg-N"
      }
    },
    {
      "cell_type": "code",
      "source": [
        "# Stack Tensors on top of each other\n",
        "x_stacked = torch.stack([x,x,x,x], dim = 0)\n",
        "x_stacked"
      ],
      "metadata": {
        "colab": {
          "base_uri": "https://localhost:8080/"
        },
        "id": "U8Jc2Q3pRkts",
        "outputId": "d6dfde66-44ad-44c1-8efd-db2bb3027df9"
      },
      "execution_count": null,
      "outputs": [
        {
          "output_type": "execute_result",
          "data": {
            "text/plain": [
              "tensor([[0.5000, 2.0000, 3.0000, 4.0000, 5.0000, 6.0000, 7.0000, 8.0000, 9.0000],\n",
              "        [0.5000, 2.0000, 3.0000, 4.0000, 5.0000, 6.0000, 7.0000, 8.0000, 9.0000],\n",
              "        [0.5000, 2.0000, 3.0000, 4.0000, 5.0000, 6.0000, 7.0000, 8.0000, 9.0000],\n",
              "        [0.5000, 2.0000, 3.0000, 4.0000, 5.0000, 6.0000, 7.0000, 8.0000, 9.0000]])"
            ]
          },
          "metadata": {},
          "execution_count": 12
        }
      ]
    },
    {
      "cell_type": "code",
      "source": [
        "#Stack Tensors on top of each other\n",
        "x_stacked = torch.stack([x,x,x,x], dim = 1)\n",
        "x_stacked"
      ],
      "metadata": {
        "colab": {
          "base_uri": "https://localhost:8080/"
        },
        "id": "TPxiVH76SUon",
        "outputId": "321cdbb6-faa7-427c-8b35-82ad9397ae77"
      },
      "execution_count": null,
      "outputs": [
        {
          "output_type": "execute_result",
          "data": {
            "text/plain": [
              "tensor([[0.5000, 0.5000, 0.5000, 0.5000],\n",
              "        [2.0000, 2.0000, 2.0000, 2.0000],\n",
              "        [3.0000, 3.0000, 3.0000, 3.0000],\n",
              "        [4.0000, 4.0000, 4.0000, 4.0000],\n",
              "        [5.0000, 5.0000, 5.0000, 5.0000],\n",
              "        [6.0000, 6.0000, 6.0000, 6.0000],\n",
              "        [7.0000, 7.0000, 7.0000, 7.0000],\n",
              "        [8.0000, 8.0000, 8.0000, 8.0000],\n",
              "        [9.0000, 9.0000, 9.0000, 9.0000]])"
            ]
          },
          "metadata": {},
          "execution_count": 13
        }
      ]
    },
    {
      "cell_type": "code",
      "source": [
        "x_vstacked = torch.vstack([x,x,x,x])\n",
        "x_vstacked"
      ],
      "metadata": {
        "colab": {
          "base_uri": "https://localhost:8080/"
        },
        "id": "TVzMzoIZSxFj",
        "outputId": "a509ac30-9372-4be8-add4-305e6b47a8f1"
      },
      "execution_count": null,
      "outputs": [
        {
          "output_type": "execute_result",
          "data": {
            "text/plain": [
              "tensor([[0.5000, 2.0000, 3.0000, 4.0000, 5.0000, 6.0000, 7.0000, 8.0000, 9.0000],\n",
              "        [0.5000, 2.0000, 3.0000, 4.0000, 5.0000, 6.0000, 7.0000, 8.0000, 9.0000],\n",
              "        [0.5000, 2.0000, 3.0000, 4.0000, 5.0000, 6.0000, 7.0000, 8.0000, 9.0000],\n",
              "        [0.5000, 2.0000, 3.0000, 4.0000, 5.0000, 6.0000, 7.0000, 8.0000, 9.0000]])"
            ]
          },
          "metadata": {},
          "execution_count": 14
        }
      ]
    },
    {
      "cell_type": "code",
      "source": [
        "x_hstacked = torch.hstack([x,x,x,x])\n",
        "x_hstacked"
      ],
      "metadata": {
        "colab": {
          "base_uri": "https://localhost:8080/"
        },
        "id": "jrt6OTVRS9yz",
        "outputId": "69b310e4-da1c-4358-b5fc-b43dad64f37d"
      },
      "execution_count": null,
      "outputs": [
        {
          "output_type": "execute_result",
          "data": {
            "text/plain": [
              "tensor([0.5000, 2.0000, 3.0000, 4.0000, 5.0000, 6.0000, 7.0000, 8.0000, 9.0000,\n",
              "        0.5000, 2.0000, 3.0000, 4.0000, 5.0000, 6.0000, 7.0000, 8.0000, 9.0000,\n",
              "        0.5000, 2.0000, 3.0000, 4.0000, 5.0000, 6.0000, 7.0000, 8.0000, 9.0000,\n",
              "        0.5000, 2.0000, 3.0000, 4.0000, 5.0000, 6.0000, 7.0000, 8.0000, 9.0000])"
            ]
          },
          "metadata": {},
          "execution_count": 16
        }
      ]
    },
    {
      "cell_type": "code",
      "source": [
        "x.shape\n",
        "x.reshape(1,1,9)\n",
        "x.shape\n"
      ],
      "metadata": {
        "colab": {
          "base_uri": "https://localhost:8080/"
        },
        "id": "4dP6n_cSTA_0",
        "outputId": "f2824bfe-8cac-4592-a50f-e2eeaee196bf"
      },
      "execution_count": null,
      "outputs": [
        {
          "output_type": "execute_result",
          "data": {
            "text/plain": [
              "torch.Size([9])"
            ]
          },
          "metadata": {},
          "execution_count": 19
        },
        {
          "output_type": "execute_result",
          "data": {
            "text/plain": [
              "tensor([[[0.5000, 2.0000, 3.0000, 4.0000, 5.0000, 6.0000, 7.0000, 8.0000,\n",
              "          9.0000]]])"
            ]
          },
          "metadata": {},
          "execution_count": 19
        },
        {
          "output_type": "execute_result",
          "data": {
            "text/plain": [
              "torch.Size([9])"
            ]
          },
          "metadata": {},
          "execution_count": 19
        }
      ]
    },
    {
      "cell_type": "code",
      "source": [
        "#Squeeze the tensor: remove all dimensions =1\n",
        "x.squeeze().shape\n"
      ],
      "metadata": {
        "colab": {
          "base_uri": "https://localhost:8080/"
        },
        "id": "lu1v3SfLT0De",
        "outputId": "86b6073f-0608-4862-8c02-501e17326953"
      },
      "execution_count": null,
      "outputs": [
        {
          "output_type": "execute_result",
          "data": {
            "text/plain": [
              "torch.Size([9])"
            ]
          },
          "metadata": {},
          "execution_count": 20
        }
      ]
    },
    {
      "cell_type": "code",
      "source": [
        "x = torch.squeeze(x)\n",
        "x.shape\n",
        "x"
      ],
      "metadata": {
        "colab": {
          "base_uri": "https://localhost:8080/"
        },
        "id": "IdD8xcs1lW_8",
        "outputId": "57721170-219b-48ae-df50-4bcb9c5bbab9"
      },
      "execution_count": null,
      "outputs": [
        {
          "output_type": "execute_result",
          "data": {
            "text/plain": [
              "torch.Size([2, 5])"
            ]
          },
          "metadata": {},
          "execution_count": 11
        },
        {
          "output_type": "execute_result",
          "data": {
            "text/plain": [
              "tensor([[ 1,  2,  3,  4,  5],\n",
              "        [ 6,  7,  8,  9, 10]])"
            ]
          },
          "metadata": {},
          "execution_count": 11
        }
      ]
    },
    {
      "cell_type": "code",
      "source": [
        "# Note how unsqueezing adds one dimention at the location specified in \"dim\"\n",
        "x = torch.unsqueeze(x, dim =3)\n",
        "x.shape, x"
      ],
      "metadata": {
        "colab": {
          "base_uri": "https://localhost:8080/"
        },
        "id": "nF8cBby2mfNA",
        "outputId": "38a9d2c8-ec9b-4674-adf3-3362f5ff8378"
      },
      "execution_count": null,
      "outputs": [
        {
          "output_type": "execute_result",
          "data": {
            "text/plain": [
              "(torch.Size([1, 2, 5, 1]),\n",
              " tensor([[[[ 1],\n",
              "           [ 2],\n",
              "           [ 3],\n",
              "           [ 4],\n",
              "           [ 5]],\n",
              " \n",
              "          [[ 6],\n",
              "           [ 7],\n",
              "           [ 8],\n",
              "           [ 9],\n",
              "           [10]]]]))"
            ]
          },
          "metadata": {},
          "execution_count": 14
        }
      ]
    },
    {
      "cell_type": "code",
      "source": [
        "shape = (2,3,4,5) # 2 volumes, 3 planes ea, 4 rows, 5 colums\n",
        "x = torch.rand(shape)\n",
        "x"
      ],
      "metadata": {
        "colab": {
          "base_uri": "https://localhost:8080/"
        },
        "id": "X4DXUKtBT4go",
        "outputId": "ff06de8b-16d7-4ebc-b922-80e61698c715"
      },
      "execution_count": null,
      "outputs": [
        {
          "output_type": "execute_result",
          "data": {
            "text/plain": [
              "tensor([[[[0.5520, 0.6825, 0.7769, 0.9218, 0.5108],\n",
              "          [0.2313, 0.7962, 0.3952, 0.3686, 0.0157],\n",
              "          [0.0913, 0.7596, 0.5869, 0.1310, 0.8788],\n",
              "          [0.6177, 0.3767, 0.5937, 0.4577, 0.0249]],\n",
              "\n",
              "         [[0.2815, 0.6006, 0.3203, 0.7489, 0.8626],\n",
              "          [0.1603, 0.5197, 0.9791, 0.5299, 0.3749],\n",
              "          [0.3845, 0.2587, 0.3284, 0.5820, 0.2596],\n",
              "          [0.0058, 0.1046, 0.2394, 0.2081, 0.4300]],\n",
              "\n",
              "         [[0.2086, 0.7971, 0.0532, 0.0953, 0.7196],\n",
              "          [0.8831, 0.4754, 0.6267, 0.7833, 0.1276],\n",
              "          [0.3537, 0.5724, 0.9079, 0.4654, 0.0278],\n",
              "          [0.0173, 0.3268, 0.2477, 0.4142, 0.6079]]],\n",
              "\n",
              "\n",
              "        [[[0.2447, 0.1266, 0.6585, 0.3272, 0.3346],\n",
              "          [0.5679, 0.8273, 0.6012, 0.6810, 0.7612],\n",
              "          [0.8438, 0.3448, 0.4627, 0.3317, 0.5930],\n",
              "          [0.8932, 0.1139, 0.5700, 0.4343, 0.1535]],\n",
              "\n",
              "         [[0.5632, 0.4756, 0.3516, 0.7186, 0.8335],\n",
              "          [0.3127, 0.2278, 0.3127, 0.0260, 0.8612],\n",
              "          [0.0023, 0.3677, 0.2028, 0.8438, 0.0896],\n",
              "          [0.9973, 0.8083, 0.3992, 0.1242, 0.6139]],\n",
              "\n",
              "         [[0.1790, 0.1535, 0.5107, 0.0603, 0.0024],\n",
              "          [0.9803, 0.7429, 0.4757, 0.5343, 0.5910],\n",
              "          [0.5262, 0.0937, 0.2224, 0.8769, 0.8796],\n",
              "          [0.1090, 0.4059, 0.4692, 0.6619, 0.1722]]]])"
            ]
          },
          "metadata": {},
          "execution_count": 17
        }
      ]
    },
    {
      "cell_type": "code",
      "source": [
        "y = torch.randint(0,10,shape)\n",
        "y, shape"
      ],
      "metadata": {
        "colab": {
          "base_uri": "https://localhost:8080/"
        },
        "id": "SY-O9MWYYo65",
        "outputId": "dd810805-144b-4761-cbec-1d6440b16e96"
      },
      "execution_count": null,
      "outputs": [
        {
          "output_type": "execute_result",
          "data": {
            "text/plain": [
              "(tensor([[[[4, 0, 2, 3, 3],\n",
              "           [0, 5, 0, 9, 6],\n",
              "           [5, 6, 9, 3, 4],\n",
              "           [1, 9, 7, 1, 3]],\n",
              " \n",
              "          [[1, 6, 4, 9, 7],\n",
              "           [6, 3, 4, 4, 5],\n",
              "           [0, 6, 5, 4, 2],\n",
              "           [6, 9, 9, 1, 4]],\n",
              " \n",
              "          [[5, 6, 3, 3, 5],\n",
              "           [0, 7, 5, 9, 0],\n",
              "           [7, 6, 9, 0, 9],\n",
              "           [6, 2, 2, 6, 2]]],\n",
              " \n",
              " \n",
              "         [[[5, 7, 4, 8, 8],\n",
              "           [3, 6, 3, 0, 8],\n",
              "           [9, 7, 9, 7, 7],\n",
              "           [7, 1, 9, 7, 3]],\n",
              " \n",
              "          [[2, 0, 9, 5, 7],\n",
              "           [9, 3, 8, 8, 1],\n",
              "           [3, 8, 2, 8, 7],\n",
              "           [7, 4, 5, 4, 9]],\n",
              " \n",
              "          [[4, 4, 2, 4, 9],\n",
              "           [1, 4, 6, 9, 6],\n",
              "           [9, 9, 1, 4, 5],\n",
              "           [5, 7, 8, 3, 4]]]]),\n",
              " (2, 3, 4, 5))"
            ]
          },
          "metadata": {},
          "execution_count": 19
        }
      ]
    },
    {
      "cell_type": "markdown",
      "source": [
        "### PERMUTING TENSORS\n",
        "\n",
        "Permutting rearranges the elements of a tensor to the dimensions of the permutation requestes i.e. size(2,3,5) to size(5,2,3)\n",
        "The input is the new order of dimensions i.e. (0,1,2) to (2,0,1). A permute is a view\n",
        "Permutations of tensors are used often in Image Processing (Computer Vision)"
      ],
      "metadata": {
        "id": "D4bZLpTq7BoT"
      }
    },
    {
      "cell_type": "code",
      "source": [
        "x = torch.randn(2,3,5)\n",
        "x.shape, x\n",
        "x= torch.permute(x, (2,0,1))\n",
        "x.shape, x"
      ],
      "metadata": {
        "colab": {
          "base_uri": "https://localhost:8080/"
        },
        "id": "Djv8dxVg7m-7",
        "outputId": "332fe8fd-2cb7-4ed2-e08a-34c527da1530"
      },
      "execution_count": null,
      "outputs": [
        {
          "output_type": "execute_result",
          "data": {
            "text/plain": [
              "(torch.Size([2, 3, 5]),\n",
              " tensor([[[-1.7659,  0.3218, -1.3755, -0.8567,  1.8455],\n",
              "          [ 0.4126,  0.1700, -0.5447,  2.1054,  0.5803],\n",
              "          [ 0.0791, -0.5101, -2.1290,  1.8234,  0.8956]],\n",
              " \n",
              "         [[ 0.2142,  0.6879,  1.7817, -1.3025,  1.3441],\n",
              "          [ 0.4300,  0.1203, -0.5078, -0.0806, -1.2784],\n",
              "          [-0.3381,  1.0017, -1.5547,  0.3098, -0.2481]]]))"
            ]
          },
          "metadata": {},
          "execution_count": 8
        },
        {
          "output_type": "execute_result",
          "data": {
            "text/plain": [
              "(torch.Size([5, 2, 3]),\n",
              " tensor([[[-1.7659,  0.4126,  0.0791],\n",
              "          [ 0.2142,  0.4300, -0.3381]],\n",
              " \n",
              "         [[ 0.3218,  0.1700, -0.5101],\n",
              "          [ 0.6879,  0.1203,  1.0017]],\n",
              " \n",
              "         [[-1.3755, -0.5447, -2.1290],\n",
              "          [ 1.7817, -0.5078, -1.5547]],\n",
              " \n",
              "         [[-0.8567,  2.1054,  1.8234],\n",
              "          [-1.3025, -0.0806,  0.3098]],\n",
              " \n",
              "         [[ 1.8455,  0.5803,  0.8956],\n",
              "          [ 1.3441, -1.2784, -0.2481]]]))"
            ]
          },
          "metadata": {},
          "execution_count": 8
        }
      ]
    },
    {
      "cell_type": "markdown",
      "source": [
        "### Indexing (selecting specific data from tensors)\n",
        "Indexing with Pytorch is similar to indexing with NumPy"
      ],
      "metadata": {
        "id": "rDSvCgmpzPHV"
      }
    },
    {
      "cell_type": "code",
      "source": [
        "#Create a tensor\n",
        "import torch\n",
        "# arange() to create the tensor is executed before reshape()\n",
        "# arange returns a 1x9 tensor and reshape converts it to a 1x3x3\n",
        "x = torch.arange(1,10).reshape(1,3,3)\n",
        "x, x.shape"
      ],
      "metadata": {
        "colab": {
          "base_uri": "https://localhost:8080/"
        },
        "id": "DCLhb_nRzd2j",
        "outputId": "9137efb8-e06a-4cb0-d5d7-1a0e0e939985"
      },
      "execution_count": null,
      "outputs": [
        {
          "output_type": "execute_result",
          "data": {
            "text/plain": [
              "(tensor([[[1, 2, 3],\n",
              "          [4, 5, 6],\n",
              "          [7, 8, 9]]]),\n",
              " torch.Size([1, 3, 3]))"
            ]
          },
          "metadata": {},
          "execution_count": 2
        }
      ]
    },
    {
      "cell_type": "code",
      "source": [
        "#Let's index on new tensor on 1st bracket (dim=0)\n",
        "x[0]\n"
      ],
      "metadata": {
        "colab": {
          "base_uri": "https://localhost:8080/"
        },
        "id": "8giOt3hV0sEh",
        "outputId": "55210e3a-217a-4665-c5ee-5a727b35f0c4"
      },
      "execution_count": null,
      "outputs": [
        {
          "output_type": "execute_result",
          "data": {
            "text/plain": [
              "tensor([[1, 2, 3],\n",
              "        [4, 5, 6],\n",
              "        [7, 8, 9]])"
            ]
          },
          "metadata": {},
          "execution_count": 3
        }
      ]
    },
    {
      "cell_type": "code",
      "source": [
        "# Let's index on middle (2nd) bracket (dim =1)\n",
        "x[0][0], x[0,0]"
      ],
      "metadata": {
        "colab": {
          "base_uri": "https://localhost:8080/"
        },
        "id": "jRbd1hLL1KAS",
        "outputId": "1a966371-b265-4409-bf15-5bbf67cb3435"
      },
      "execution_count": null,
      "outputs": [
        {
          "output_type": "execute_result",
          "data": {
            "text/plain": [
              "(tensor([1, 2, 3]), tensor([1, 2, 3]))"
            ]
          },
          "metadata": {},
          "execution_count": 5
        }
      ]
    },
    {
      "cell_type": "code",
      "source": [
        "# Let's index on the third index (dim =2)\n",
        "x[0][0][0]\n",
        "# Remember, the first index is plane, the second one the row and third the column\n",
        "# you can use a \":\" to target all of a target dimension"
      ],
      "metadata": {
        "colab": {
          "base_uri": "https://localhost:8080/"
        },
        "id": "DIj3H84DFpd_",
        "outputId": "6da51ad3-2ea4-4400-b800-e5ef3202a7bb"
      },
      "execution_count": null,
      "outputs": [
        {
          "output_type": "execute_result",
          "data": {
            "text/plain": [
              "tensor(1)"
            ]
          },
          "metadata": {},
          "execution_count": 6
        }
      ]
    },
    {
      "cell_type": "code",
      "source": [
        "# Ex: target the 9\n",
        "x[0][2][2], x[0,2,2]"
      ],
      "metadata": {
        "colab": {
          "base_uri": "https://localhost:8080/"
        },
        "id": "KKR2xexUGiIy",
        "outputId": "1461e151-fc0e-4c5d-cfca-c2b84256c864"
      },
      "execution_count": null,
      "outputs": [
        {
          "output_type": "execute_result",
          "data": {
            "text/plain": [
              "(tensor(9), tensor(9))"
            ]
          },
          "metadata": {},
          "execution_count": 12
        }
      ]
    },
    {
      "cell_type": "code",
      "source": [
        "#Get all element of 0th and 1st dimension but only one of dim=3\n",
        "x[:, :, 1]"
      ],
      "metadata": {
        "colab": {
          "base_uri": "https://localhost:8080/"
        },
        "id": "EjzrmWvNG_Wl",
        "outputId": "5a79d065-c6cc-4206-d1d0-abbff13563a6"
      },
      "execution_count": null,
      "outputs": [
        {
          "output_type": "execute_result",
          "data": {
            "text/plain": [
              "tensor([[2, 5, 8]])"
            ]
          },
          "metadata": {},
          "execution_count": 11
        }
      ]
    },
    {
      "cell_type": "markdown",
      "source": [
        "#### Pytorch Tensors & Numpy\n",
        "Numpy is a popular scientific Python numerical computing library\n",
        "Pytorch has integration with NumPY\n",
        "* Data in Numpy can be converted to Pytorch tensor -> torch.from_numpy(ndarray)\n",
        "* Pytorch tensor to Numpy ndarray -> torch.Tensor.numpy()\n"
      ],
      "metadata": {
        "id": "HIOqV-bMpYep"
      }
    },
    {
      "cell_type": "code",
      "source": [
        "#Numpy array to tensor\n",
        "import torch\n",
        "import numpy as np\n",
        "#the default datatype in Numpy is float 64 and in Pytorch float32 so ...\n",
        "array = np.arange(1.0, 8.0, dtype=np.float32)\n",
        "array, array.dtype\n",
        "#or you can use tensor = torch.from_numpy(array).dtype(torch.float32)\n",
        "tensor = torch.from_numpy(array)\n",
        "array, tensor"
      ],
      "metadata": {
        "colab": {
          "base_uri": "https://localhost:8080/"
        },
        "id": "f4NdzQJlHgkA",
        "outputId": "b7934ee2-6eaf-4fd9-976b-65c3f1dbadbd"
      },
      "execution_count": null,
      "outputs": [
        {
          "output_type": "execute_result",
          "data": {
            "text/plain": [
              "(array([1., 2., 3., 4., 5., 6., 7.], dtype=float32),\n",
              " tensor([1., 2., 3., 4., 5., 6., 7.]))"
            ]
          },
          "metadata": {},
          "execution_count": 17
        }
      ]
    },
    {
      "cell_type": "code",
      "source": [
        "#Tensor to Numpy array\n",
        "tensor = torch.ones(7)\n",
        "numpy_tensor = tensor.numpy()\n",
        "tensor, numpy_tensor"
      ],
      "metadata": {
        "colab": {
          "base_uri": "https://localhost:8080/"
        },
        "id": "fppI2TKl0si1",
        "outputId": "92980b26-1e94-4595-a104-0d2aaccde93c"
      },
      "execution_count": null,
      "outputs": [
        {
          "output_type": "execute_result",
          "data": {
            "text/plain": [
              "(tensor([1., 1., 1., 1., 1., 1., 1.]),\n",
              " array([1., 1., 1., 1., 1., 1., 1.], dtype=float32))"
            ]
          },
          "metadata": {},
          "execution_count": 18
        }
      ]
    },
    {
      "cell_type": "markdown",
      "source": [
        "#### In both cases the tensor and the array are two differente vars in memory"
      ],
      "metadata": {
        "id": "wird9Klz1d7b"
      }
    },
    {
      "cell_type": "markdown",
      "source": [
        "####Reproducibility (trying to take randomness out of random)\n",
        "The way ML works is it starts with a model full of parameters with random values and the algorithm updates these random values making them better representations of the data in an iterative process\n",
        "\n",
        "However if we are trying to do reproducible experiments we would like to reproduce the initial random numbers.\n",
        "\n",
        "To reduce the randomness in Pytorch use the concept of a **Random Seed**"
      ],
      "metadata": {
        "id": "khJIBZp911sH"
      }
    },
    {
      "cell_type": "code",
      "source": [
        "torch.rand(3,3)"
      ],
      "metadata": {
        "colab": {
          "base_uri": "https://localhost:8080/"
        },
        "id": "rSruXXQk2HWR",
        "outputId": "c61eea27-17dd-4d40-8d02-8099a9ab2e39"
      },
      "execution_count": null,
      "outputs": [
        {
          "output_type": "execute_result",
          "data": {
            "text/plain": [
              "tensor([[0.0573, 0.1251, 0.1105],\n",
              "        [0.3821, 0.3484, 0.6104],\n",
              "        [0.2101, 0.5042, 0.7867]])"
            ]
          },
          "metadata": {},
          "execution_count": 19
        }
      ]
    },
    {
      "cell_type": "code",
      "source": [
        "torch.rand(3,3)"
      ],
      "metadata": {
        "colab": {
          "base_uri": "https://localhost:8080/"
        },
        "id": "WIT8AF1j1qrW",
        "outputId": "02282abc-142b-4979-ec90-70013ee41df3"
      },
      "execution_count": null,
      "outputs": [
        {
          "output_type": "execute_result",
          "data": {
            "text/plain": [
              "tensor([[0.0841, 0.2909, 0.4819],\n",
              "        [0.0714, 0.7961, 0.4944],\n",
              "        [0.1183, 0.4365, 0.7689]])"
            ]
          },
          "metadata": {},
          "execution_count": 20
        }
      ]
    },
    {
      "cell_type": "code",
      "source": [
        "random_tensor_A = torch.rand(3, 4)\n",
        "random_tensor_B = torch.rand(3, 4)\n",
        "print(random_tensor_A)\n",
        "print(random_tensor_B)\n",
        "print(random_tensor_A == random_tensor_B)"
      ],
      "metadata": {
        "colab": {
          "base_uri": "https://localhost:8080/"
        },
        "id": "-wXlJY8x4gfX",
        "outputId": "8feb1b30-47ad-40a5-f410-468f98e11bb7"
      },
      "execution_count": null,
      "outputs": [
        {
          "output_type": "stream",
          "name": "stdout",
          "text": [
            "tensor([[0.4970, 0.5200, 0.6733, 0.0342],\n",
            "        [0.8025, 0.4400, 0.7174, 0.7506],\n",
            "        [0.3855, 0.6751, 0.1251, 0.6951]])\n",
            "tensor([[0.7532, 0.8232, 0.6537, 0.2052],\n",
            "        [0.2587, 0.8553, 0.6979, 0.0761],\n",
            "        [0.6211, 0.4691, 0.2745, 0.2404]])\n",
            "tensor([[False, False, False, False],\n",
            "        [False, False, False, False],\n",
            "        [False, False, False, False]])\n"
          ]
        }
      ]
    },
    {
      "cell_type": "code",
      "source": [
        "# Create random but reproducible tensors Notice you need 3 lines of code\n",
        "import torch\n",
        "RANDOM_SEED = 42\n",
        "torch.manual_seed(RANDOM_SEED)\n",
        "random_tensor_C = torch.rand(3, 4)\n",
        "# Must set the RANDOM_SEED each time\n",
        "RANDOM_SEED = 42\n",
        "torch.manual_seed(RANDOM_SEED)\n",
        "random_tensor_D = torch.rand(3, 4)\n",
        "print(random_tensor_C)\n",
        "print(random_tensor_D)\n",
        "print(random_tensor_C == random_tensor_D)"
      ],
      "metadata": {
        "colab": {
          "base_uri": "https://localhost:8080/"
        },
        "id": "2IRcM-hK5m9i",
        "outputId": "99580c56-b90a-48cf-b44e-f033adf61c1f"
      },
      "execution_count": null,
      "outputs": [
        {
          "output_type": "stream",
          "name": "stdout",
          "text": [
            "tensor([[0.8823, 0.9150, 0.3829, 0.9593],\n",
            "        [0.3904, 0.6009, 0.2566, 0.7936],\n",
            "        [0.9408, 0.1332, 0.9346, 0.5936]])\n",
            "tensor([[0.8823, 0.9150, 0.3829, 0.9593],\n",
            "        [0.3904, 0.6009, 0.2566, 0.7936],\n",
            "        [0.9408, 0.1332, 0.9346, 0.5936]])\n",
            "tensor([[True, True, True, True],\n",
            "        [True, True, True, True],\n",
            "        [True, True, True, True]])\n"
          ]
        }
      ]
    },
    {
      "cell_type": "markdown",
      "source": [
        "Random Seed is also called Manual Seed in Pytorch.\n",
        "https://pythor.org/docs/stable/notes/randomness.html\n",
        "https://en.wikipedia.org/wiki/Random_seed"
      ],
      "metadata": {
        "id": "d9cnGQ7X77oq"
      }
    },
    {
      "cell_type": "markdown",
      "source": [
        "## Running Tensors & Pytorch Objects on GPUs"
      ],
      "metadata": {
        "id": "9b_xV8Ef8aCv"
      }
    },
    {
      "cell_type": "code",
      "source": [
        "!nvidia-smi\n"
      ],
      "metadata": {
        "colab": {
          "base_uri": "https://localhost:8080/"
        },
        "id": "-wpnKSHfxDoJ",
        "outputId": "544cbed0-ffe0-4e5a-c46c-e01bdc84155e"
      },
      "execution_count": null,
      "outputs": [
        {
          "output_type": "stream",
          "name": "stdout",
          "text": [
            "Thu Jul 18 16:55:23 2024       \n",
            "+---------------------------------------------------------------------------------------+\n",
            "| NVIDIA-SMI 535.104.05             Driver Version: 535.104.05   CUDA Version: 12.2     |\n",
            "|-----------------------------------------+----------------------+----------------------+\n",
            "| GPU  Name                 Persistence-M | Bus-Id        Disp.A | Volatile Uncorr. ECC |\n",
            "| Fan  Temp   Perf          Pwr:Usage/Cap |         Memory-Usage | GPU-Util  Compute M. |\n",
            "|                                         |                      |               MIG M. |\n",
            "|=========================================+======================+======================|\n",
            "|   0  Tesla T4                       Off | 00000000:00:04.0 Off |                    0 |\n",
            "| N/A   48C    P8              10W /  70W |      0MiB / 15360MiB |      0%      Default |\n",
            "|                                         |                      |                  N/A |\n",
            "+-----------------------------------------+----------------------+----------------------+\n",
            "                                                                                         \n",
            "+---------------------------------------------------------------------------------------+\n",
            "| Processes:                                                                            |\n",
            "|  GPU   GI   CI        PID   Type   Process name                            GPU Memory |\n",
            "|        ID   ID                                                             Usage      |\n",
            "|=======================================================================================|\n",
            "|  No running processes found                                                           |\n",
            "+---------------------------------------------------------------------------------------+\n"
          ]
        }
      ]
    },
    {
      "cell_type": "code",
      "source": [
        "# Check to see is there access to CUDA with Pytorch\n",
        "\n",
        "import torch\n",
        "torch.cuda.is_available()"
      ],
      "metadata": {
        "colab": {
          "base_uri": "https://localhost:8080/"
        },
        "id": "KtZ1scXSx_uq",
        "outputId": "3d8d1eb6-994f-44ee-e70c-1a105d4534d2"
      },
      "execution_count": null,
      "outputs": [
        {
          "output_type": "execute_result",
          "data": {
            "text/plain": [
              "True"
            ]
          },
          "metadata": {},
          "execution_count": 2
        }
      ]
    },
    {
      "cell_type": "code",
      "source": [
        "#Setup device agnostic code. Only use GPU if available\n",
        "#This is different than lecture where torch.device was not necessary\n",
        "device = torch.device (\"cuda\" if torch.cuda.is_available() else \"cpu\")\n",
        "print (device)"
      ],
      "metadata": {
        "colab": {
          "base_uri": "https://localhost:8080/"
        },
        "id": "uG3YCtsyyUIX",
        "outputId": "722f70aa-ad36-48e1-d49a-5136303eec5f"
      },
      "execution_count": null,
      "outputs": [
        {
          "output_type": "stream",
          "name": "stdout",
          "text": [
            "cuda\n"
          ]
        }
      ]
    },
    {
      "cell_type": "code",
      "source": [
        "# Count the number of devices\n",
        "torch.cuda.device_count()"
      ],
      "metadata": {
        "colab": {
          "base_uri": "https://localhost:8080/"
        },
        "id": "xYFVfhXhyTh5",
        "outputId": "5db868a8-4a15-4685-85f5-dd618fce06be"
      },
      "execution_count": null,
      "outputs": [
        {
          "output_type": "execute_result",
          "data": {
            "text/plain": [
              "1"
            ]
          },
          "metadata": {},
          "execution_count": 6
        }
      ]
    },
    {
      "cell_type": "markdown",
      "source": [
        "## Putting Tensors and models on the GPU"
      ],
      "metadata": {
        "id": "etPmfg7S0x5A"
      }
    },
    {
      "cell_type": "code",
      "source": [
        "#Create a tensor on default CPU location\n",
        "tensor = torch.tensor([1,2,3])\n",
        "tensor\n"
      ],
      "metadata": {
        "colab": {
          "base_uri": "https://localhost:8080/"
        },
        "id": "RvSRxzeF11HR",
        "outputId": "046d6043-bec8-4915-b688-ddc64ad2ebfc"
      },
      "execution_count": null,
      "outputs": [
        {
          "output_type": "execute_result",
          "data": {
            "text/plain": [
              "tensor([1, 2, 3])"
            ]
          },
          "metadata": {},
          "execution_count": 7
        }
      ]
    },
    {
      "cell_type": "code",
      "source": [
        "print (tensor, tensor.device)"
      ],
      "metadata": {
        "colab": {
          "base_uri": "https://localhost:8080/"
        },
        "id": "fzLoSG8x5zQa",
        "outputId": "01e07f3c-38d1-424d-dca2-5cd9dcd0cec6"
      },
      "execution_count": null,
      "outputs": [
        {
          "output_type": "stream",
          "name": "stdout",
          "text": [
            "tensor([1, 2, 3]) cpu\n"
          ]
        }
      ]
    },
    {
      "cell_type": "code",
      "source": [
        "# Can explicitly declare the device\n",
        "tensor = torch.tensor([1,2,3], device = \"cpu\")\n",
        "print (tensor, tensor.device)"
      ],
      "metadata": {
        "colab": {
          "base_uri": "https://localhost:8080/"
        },
        "id": "QvqoUl0j5_vF",
        "outputId": "016e15f6-5a37-4167-eddd-fd0878ee1858"
      },
      "execution_count": null,
      "outputs": [
        {
          "output_type": "stream",
          "name": "stdout",
          "text": [
            "tensor([1, 2, 3]) cpu\n"
          ]
        }
      ]
    },
    {
      "cell_type": "markdown",
      "source": [
        "####Pytorch makes it easy to move things to the target device"
      ],
      "metadata": {
        "id": "4vJAKQYR6Ue0"
      }
    },
    {
      "cell_type": "code",
      "source": [
        "#Move tensor to GPu (if available)  Device was set previously\n",
        "tensor_on_gpu = tensor.to(device)\n",
        "tensor_on_gpu"
      ],
      "metadata": {
        "colab": {
          "base_uri": "https://localhost:8080/"
        },
        "id": "0qkCAOaw6zoj",
        "outputId": "789f14ec-eacb-41eb-92a0-82bdf74a194d"
      },
      "execution_count": null,
      "outputs": [
        {
          "output_type": "execute_result",
          "data": {
            "text/plain": [
              "tensor([1, 2, 3], device='cuda:0')"
            ]
          },
          "metadata": {},
          "execution_count": 11
        }
      ]
    },
    {
      "cell_type": "code",
      "source": [
        "# Move tensor back to CPU. One case might be to use Numpy which only works on CPU\n",
        "tensor_back_on_cpu = tensor_on_gpu.cpu().numpy()\n",
        "tensor_back_on_cpu"
      ],
      "metadata": {
        "colab": {
          "base_uri": "https://localhost:8080/"
        },
        "id": "Z9mdv0Ad7ftG",
        "outputId": "ec280869-5895-42da-dec9-de5bc10c818c"
      },
      "execution_count": null,
      "outputs": [
        {
          "output_type": "execute_result",
          "data": {
            "text/plain": [
              "array([1, 2, 3])"
            ]
          },
          "metadata": {},
          "execution_count": 12
        }
      ]
    },
    {
      "cell_type": "markdown",
      "source": [
        "Remember how Python evaluates expressions. Right side first before doing assignment to left side. Right side starts left to righ evaulation of each expression."
      ],
      "metadata": {
        "id": "fvFGPy3488Ak"
      }
    },
    {
      "cell_type": "code",
      "source": [
        "#Tensor on gpu remains unchanged because we assigned the move to another variable\n",
        "\n",
        "tensor_on_gpu"
      ],
      "metadata": {
        "colab": {
          "base_uri": "https://localhost:8080/"
        },
        "id": "O5irKtDp936d",
        "outputId": "49721b50-544e-4120-e649-06e95018be97"
      },
      "execution_count": null,
      "outputs": [
        {
          "output_type": "execute_result",
          "data": {
            "text/plain": [
              "tensor([1, 2, 3], device='cuda:0')"
            ]
          },
          "metadata": {},
          "execution_count": 13
        }
      ]
    },
    {
      "cell_type": "markdown",
      "source": [
        "###EXERCISES"
      ],
      "metadata": {
        "id": "nk5ZGk5LAeMu"
      }
    },
    {
      "cell_type": "code",
      "source": [
        "#Create a random tensor with shape (7, 7)\n",
        "import torch\n",
        "tensor = torch.rand(7,7)\n",
        "tensor"
      ],
      "metadata": {
        "colab": {
          "base_uri": "https://localhost:8080/"
        },
        "id": "1yq6zqrTAhqp",
        "outputId": "b1c8a191-aafc-4665-a14f-e6744c75ef14"
      },
      "execution_count": 2,
      "outputs": [
        {
          "output_type": "execute_result",
          "data": {
            "text/plain": [
              "tensor([[0.0264, 0.3159, 0.1435, 0.4776, 0.2905, 0.2376, 0.7244],\n",
              "        [0.2979, 0.5512, 0.9779, 0.1418, 0.7127, 0.8932, 0.8098],\n",
              "        [0.0754, 0.3610, 0.2667, 0.7558, 0.8656, 0.3825, 0.5830],\n",
              "        [0.5432, 0.0914, 0.4698, 0.3406, 0.0611, 0.8426, 0.9498],\n",
              "        [0.7671, 0.4162, 0.6803, 0.9652, 0.8703, 0.0574, 0.9399],\n",
              "        [0.9266, 0.8202, 0.6262, 0.7057, 0.9159, 0.3902, 0.1827],\n",
              "        [0.0320, 0.8760, 0.2381, 0.6085, 0.8314, 0.1224, 0.1656]])"
            ]
          },
          "metadata": {},
          "execution_count": 2
        }
      ]
    },
    {
      "cell_type": "code",
      "source": [
        "#perform a matrix multiplication with a tensor (1,7)\n",
        "tensor_2 = torch.rand(1,7)\n",
        "tensor_2\n",
        "#transpose tensor_2 to perform matrix multiplication\n",
        "tensor_2.T\n",
        "# matmul the two tensors\n",
        "torch.matmul(tensor, tensor_2.T)"
      ],
      "metadata": {
        "colab": {
          "base_uri": "https://localhost:8080/"
        },
        "id": "vwCct5boA6AD",
        "outputId": "370c3302-a7a0-49f3-9097-bb44eb07d19c"
      },
      "execution_count": null,
      "outputs": [
        {
          "output_type": "execute_result",
          "data": {
            "text/plain": [
              "tensor([[1.0413],\n",
              "        [2.1746],\n",
              "        [2.1708],\n",
              "        [1.7823],\n",
              "        [2.4514],\n",
              "        [1.0398],\n",
              "        [1.4459]])"
            ]
          },
          "metadata": {},
          "execution_count": 19
        }
      ]
    },
    {
      "cell_type": "code",
      "source": [
        "#Redo the operations above with both tensors with a random seed of 0\n",
        "RANDOM_SEED =0\n",
        "torch.manual_seed(RANDOM_SEED)\n",
        "tensor = torch.rand(7,7)\n",
        "RANDOM_SEED =0\n",
        "torch.manual_seed(RANDOM_SEED)\n",
        "tensor_2 = torch.rand(1,7)\n",
        "tensor_matmul = torch.matmul(tensor, tensor_2.T)\n",
        "tensor, tensor_2, tensor_matmul"
      ],
      "metadata": {
        "colab": {
          "base_uri": "https://localhost:8080/"
        },
        "id": "qeB8PCqYCHKR",
        "outputId": "62497611-40c2-4aba-e82a-62c1661e08e7"
      },
      "execution_count": null,
      "outputs": [
        {
          "output_type": "execute_result",
          "data": {
            "text/plain": [
              "(tensor([[0.4963, 0.7682, 0.0885, 0.1320, 0.3074, 0.6341, 0.4901],\n",
              "         [0.8964, 0.4556, 0.6323, 0.3489, 0.4017, 0.0223, 0.1689],\n",
              "         [0.2939, 0.5185, 0.6977, 0.8000, 0.1610, 0.2823, 0.6816],\n",
              "         [0.9152, 0.3971, 0.8742, 0.4194, 0.5529, 0.9527, 0.0362],\n",
              "         [0.1852, 0.3734, 0.3051, 0.9320, 0.1759, 0.2698, 0.1507],\n",
              "         [0.0317, 0.2081, 0.9298, 0.7231, 0.7423, 0.5263, 0.2437],\n",
              "         [0.5846, 0.0332, 0.1387, 0.2422, 0.8155, 0.7932, 0.2783]]),\n",
              " tensor([[0.4963, 0.7682, 0.0885, 0.1320, 0.3074, 0.6341, 0.4901]]),\n",
              " tensor([[1.5985],\n",
              "         [1.1173],\n",
              "         [1.2741],\n",
              "         [1.6838],\n",
              "         [0.8279],\n",
              "         [1.0347],\n",
              "         [1.2498]]))"
            ]
          },
          "metadata": {},
          "execution_count": 21
        }
      ]
    },
    {
      "cell_type": "code",
      "source": [
        "#The way to generate a tensor with a random seed in cuda is using tensor.cuda.seed()\n",
        "\n",
        "torch.cuda.seed()\n",
        "torch.cuda.manual_seed(1234)\n",
        "torch.cuda.manual_seed_all(1234)\n",
        "\n",
        "tensor = torch.rand(7,7)\n",
        "tensor\n"
      ],
      "metadata": {
        "id": "-dyEhXlT4HKS",
        "colab": {
          "base_uri": "https://localhost:8080/"
        },
        "outputId": "32d73fa3-9ff6-4278-a8e4-a8f28974991d"
      },
      "execution_count": null,
      "outputs": [
        {
          "output_type": "execute_result",
          "data": {
            "text/plain": [
              "tensor([[0.4217, 0.7315, 0.4991, 0.6040, 0.3479, 0.6605, 0.5150],\n",
              "        [0.0926, 0.3143, 0.3407, 0.8237, 0.5030, 0.0737, 0.9511],\n",
              "        [0.4361, 0.8462, 0.6765, 0.8241, 0.0958, 0.0934, 0.8564],\n",
              "        [0.0202, 0.6226, 0.2212, 0.5231, 0.1306, 0.1090, 0.6834],\n",
              "        [0.8427, 0.9358, 0.7290, 0.5327, 0.4475, 0.3022, 0.6237],\n",
              "        [0.1663, 0.5176, 0.3337, 0.8030, 0.1932, 0.1285, 0.1669],\n",
              "        [0.4845, 0.4987, 0.3760, 0.5112, 0.5570, 0.6459, 0.6014]])"
            ]
          },
          "metadata": {},
          "execution_count": 9
        }
      ]
    },
    {
      "cell_type": "code",
      "source": [
        "# Create 2 random tensors and send them to the GPU\n",
        "import torch\n",
        "tensor_A = torch.rand(2,3)\n",
        "tensor_B = torch.rand(2,3)\n",
        "print(\"Tensors A & B with OUT Seed:\", tensor_A,tensor_B)\n",
        "\n",
        "torch.cuda.manual_seed(1234)\n",
        "tensor_A = torch.cuda.rand(2,3)\n",
        "torch.cuda.manual_seed(1234)\n",
        "tensor_B = torch.cuda.rand(2,3)\n",
        "print(\"Tensors A & B with Seed:\",tensor_A,tensor_B)\n",
        "tensor_B = tensor_B.T\n",
        "print(\" Tensors A & B Transpose \", tensor_A,tensor_B)\n",
        "tensor_A = tensor_A.to(\"cuda\")\n",
        "tensor_B = tensor_B.to(\"cuda\")\n",
        "tensor_A, tensor_B\n",
        "%time\n",
        "tensor_C = torch.matmul(tensor_A, tensor_B)\n",
        "tensor_C"
      ],
      "metadata": {
        "id": "LL_ImX0LGTTf",
        "colab": {
          "base_uri": "https://localhost:8080/",
          "height": 263
        },
        "outputId": "28d511c4-1114-4c6b-f29d-628e604bbb83"
      },
      "execution_count": 1,
      "outputs": [
        {
          "output_type": "stream",
          "name": "stdout",
          "text": [
            "Tensors A & B with OUT Seed: tensor([[0.4621, 0.6778, 0.6961],\n",
            "        [0.9704, 0.2981, 0.2224]]) tensor([[0.1479, 0.2662, 0.6533],\n",
            "        [0.0544, 0.3876, 0.0099]])\n"
          ]
        },
        {
          "output_type": "error",
          "ename": "AttributeError",
          "evalue": "module 'torch.cuda' has no attribute 'rand'",
          "traceback": [
            "\u001b[0;31m---------------------------------------------------------------------------\u001b[0m",
            "\u001b[0;31mAttributeError\u001b[0m                            Traceback (most recent call last)",
            "\u001b[0;32m<ipython-input-1-a4420b1bb028>\u001b[0m in \u001b[0;36m<cell line: 8>\u001b[0;34m()\u001b[0m\n\u001b[1;32m      6\u001b[0m \u001b[0;34m\u001b[0m\u001b[0m\n\u001b[1;32m      7\u001b[0m \u001b[0mtorch\u001b[0m\u001b[0;34m.\u001b[0m\u001b[0mcuda\u001b[0m\u001b[0;34m.\u001b[0m\u001b[0mmanual_seed\u001b[0m\u001b[0;34m(\u001b[0m\u001b[0;36m1234\u001b[0m\u001b[0;34m)\u001b[0m\u001b[0;34m\u001b[0m\u001b[0;34m\u001b[0m\u001b[0m\n\u001b[0;32m----> 8\u001b[0;31m \u001b[0mtensor_A\u001b[0m \u001b[0;34m=\u001b[0m \u001b[0mtorch\u001b[0m\u001b[0;34m.\u001b[0m\u001b[0mcuda\u001b[0m\u001b[0;34m.\u001b[0m\u001b[0mrand\u001b[0m\u001b[0;34m(\u001b[0m\u001b[0;36m2\u001b[0m\u001b[0;34m,\u001b[0m\u001b[0;36m3\u001b[0m\u001b[0;34m)\u001b[0m\u001b[0;34m\u001b[0m\u001b[0;34m\u001b[0m\u001b[0m\n\u001b[0m\u001b[1;32m      9\u001b[0m \u001b[0mtorch\u001b[0m\u001b[0;34m.\u001b[0m\u001b[0mcuda\u001b[0m\u001b[0;34m.\u001b[0m\u001b[0mmanual_seed\u001b[0m\u001b[0;34m(\u001b[0m\u001b[0;36m1234\u001b[0m\u001b[0;34m)\u001b[0m\u001b[0;34m\u001b[0m\u001b[0;34m\u001b[0m\u001b[0m\n\u001b[1;32m     10\u001b[0m \u001b[0mtensor_B\u001b[0m \u001b[0;34m=\u001b[0m \u001b[0mtorch\u001b[0m\u001b[0;34m.\u001b[0m\u001b[0mcuda\u001b[0m\u001b[0;34m.\u001b[0m\u001b[0mrand\u001b[0m\u001b[0;34m(\u001b[0m\u001b[0;36m2\u001b[0m\u001b[0;34m,\u001b[0m\u001b[0;36m3\u001b[0m\u001b[0;34m)\u001b[0m\u001b[0;34m\u001b[0m\u001b[0;34m\u001b[0m\u001b[0m\n",
            "\u001b[0;31mAttributeError\u001b[0m: module 'torch.cuda' has no attribute 'rand'"
          ]
        }
      ]
    },
    {
      "cell_type": "code",
      "source": [
        "#Create 2 Random ensors with a Manual Seed directly on GPU\n",
        "\n",
        "torch.cuda.manual_seed(1234)\n",
        "tensor_on_GPU = torch.rand((2,3), device =\"cuda\")\n",
        "print (\"Tensor_on_GPU: \\n\",tensor_on_GPU)\n",
        "torch.cuda.manual_seed(1234)\n",
        "tensor_2_on_GPU = torch.rand((2,3), device =\"cuda\")\n",
        "print (\"Tensor_2_on_GPU: \\n\",tensor_2_on_GPU)\n",
        "\n"
      ],
      "metadata": {
        "colab": {
          "base_uri": "https://localhost:8080/"
        },
        "id": "K-ca8jIJ6XvT",
        "outputId": "1a322302-1950-4847-c4e8-1f231676fcad"
      },
      "execution_count": 3,
      "outputs": [
        {
          "output_type": "stream",
          "name": "stdout",
          "text": [
            "Tensor_on_GPU: \n",
            " tensor([[0.1272, 0.8167, 0.5440],\n",
            "        [0.6601, 0.2721, 0.9737]], device='cuda:0')\n",
            "Tensor_2_on_GPU: \n",
            " tensor([[0.1272, 0.8167, 0.5440],\n",
            "        [0.6601, 0.2721, 0.9737]], device='cuda:0')\n"
          ]
        }
      ]
    },
    {
      "cell_type": "code",
      "source": [
        "# Transpose the second tensor so the dimensions are as required for Matmul\n",
        "\n",
        "torch.cuda.manual_seed(1234)\n",
        "tensor_on_GPU = torch.rand((2,3), device =\"cuda\")\n",
        "print (\"Tensor_on_GPU: \\n\",tensor_on_GPU)\n",
        "torch.cuda.manual_seed(1234)\n",
        "tensor_2_on_GPU = torch.rand((2,3), device =\"cuda\")\n",
        "print (\"Tensor_2_on_GPU: \\n\",tensor_2_on_GPU)\n",
        "tensor_2_on_GPU = tensor_2_on_GPU.T\n",
        "print (\"Tensor_2_on_GPU Transposed: \\n\",tensor_2_on_GPU)\n",
        "tensor_AxBT = torch.matmul(tensor_on_GPU, tensor_2_on_GPU)\n",
        "print (\"Tensor_AxBT: \\n\",tensor_AxBT)\n"
      ],
      "metadata": {
        "colab": {
          "base_uri": "https://localhost:8080/"
        },
        "id": "KEO1GHV93bVq",
        "outputId": "e41af807-7c15-4521-e922-9d5d9eebe1d8"
      },
      "execution_count": 6,
      "outputs": [
        {
          "output_type": "stream",
          "name": "stdout",
          "text": [
            "Tensor_on_GPU: \n",
            " tensor([[0.1272, 0.8167, 0.5440],\n",
            "        [0.6601, 0.2721, 0.9737]], device='cuda:0')\n",
            "Tensor_2_on_GPU: \n",
            " tensor([[0.1272, 0.8167, 0.5440],\n",
            "        [0.6601, 0.2721, 0.9737]], device='cuda:0')\n",
            "Tensor_2_on_GPU Transposed: \n",
            " tensor([[0.1272, 0.6601],\n",
            "        [0.8167, 0.2721],\n",
            "        [0.5440, 0.9737]], device='cuda:0')\n",
            "Tensor_AxBT: \n",
            " tensor([[0.9792, 0.8358],\n",
            "        [0.8358, 1.4578]], device='cuda:0')\n"
          ]
        }
      ]
    },
    {
      "cell_type": "code",
      "source": [
        "# Find the max and min of Tensor_AxBT\n",
        "Tensor_max = torch.max(tensor_AxBT)\n",
        "Tensor_min = torch.min(tensor_AxBT)\n",
        "Tensor_max, Tensor_min\n",
        "#Find the index of max and min\n",
        "tensor_max_index = torch.argmax(tensor_AxBT)\n",
        "tensor_min_index = torch.argmin(tensor_AxBT)\n",
        "print(f\"max of AxBT at index = {tensor_max_index} \\n\\\n",
        "min of AxBT at index = {tensor_min_index}\")"
      ],
      "metadata": {
        "colab": {
          "base_uri": "https://localhost:8080/"
        },
        "id": "iNd1HI7gDYY8",
        "outputId": "a085a2af-5b3e-44be-9beb-524358e6681e"
      },
      "execution_count": 21,
      "outputs": [
        {
          "output_type": "stream",
          "name": "stdout",
          "text": [
            "max of AxBT at index = 3 \n",
            "min of AxBT at index = 1\n"
          ]
        }
      ]
    },
    {
      "cell_type": "code",
      "source": [
        "#Make a random tensor with shape (1, 1, 1, 10) and\n",
        "#then create a new tensor with all the 1 dimensions removed\n",
        "#to be left with a tensor of shape (10). Set the seed to 7 when you create it\n",
        "#and print out the first tensor\n",
        "#and it's shape as well as the second tensor and it's shape.\n",
        "\n",
        "RANDOM_SEED = 7\n",
        "torch.manual_seed(RANDOM_SEED)\n",
        "tensor = torch.rand(1,1,1,10)\n",
        "print(\"tensor \\n\", tensor,\"\\n tensor shape is \\n\", tensor.shape)\n",
        "tensor_1D = torch.squeeze(tensor)\n",
        "tensor_1D, tensor_1D.shape"
      ],
      "metadata": {
        "colab": {
          "base_uri": "https://localhost:8080/"
        },
        "id": "p6_dMtfAHOCd",
        "outputId": "7f17b256-332c-48df-8323-313fa8e15ed9"
      },
      "execution_count": 26,
      "outputs": [
        {
          "output_type": "stream",
          "name": "stdout",
          "text": [
            "tensor \n",
            " tensor([[[[0.5349, 0.1988, 0.6592, 0.6569, 0.2328, 0.4251, 0.2071, 0.6297,\n",
            "           0.3653, 0.8513]]]]) \n",
            " tensor shape is \n",
            " torch.Size([1, 1, 1, 10])\n"
          ]
        },
        {
          "output_type": "execute_result",
          "data": {
            "text/plain": [
              "(tensor([0.5349, 0.1988, 0.6592, 0.6569, 0.2328, 0.4251, 0.2071, 0.6297, 0.3653,\n",
              "         0.8513]),\n",
              " torch.Size([10]))"
            ]
          },
          "metadata": {},
          "execution_count": 26
        }
      ]
    }
  ],
  "metadata": {
    "language_info": {
      "name": "python"
    },
    "colab": {
      "provenance": [],
      "gpuType": "T4",
      "include_colab_link": true
    },
    "kernelspec": {
      "name": "python3",
      "display_name": "Python 3"
    },
    "accelerator": "GPU"
  },
  "nbformat": 4,
  "nbformat_minor": 0
}